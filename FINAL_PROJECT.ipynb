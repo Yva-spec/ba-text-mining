{
  "cells": [
    {
      "cell_type": "markdown",
      "source": [
        "# NAMED ENTITY RECOGNITION CLASSIFICATION\n"
      ],
      "metadata": {
        "id": "8TwJaw_o2Vmg"
      }
    },
    {
      "cell_type": "markdown",
      "source": [
        "### Import necessary modules"
      ],
      "metadata": {
        "id": "rEF_2K5nfwP0"
      }
    },
    {
      "cell_type": "code",
      "source": [
        "import pandas as pd\n",
        "import nltk\n",
        "from nltk.tokenize import word_tokenize\n",
        "from nltk.tag import pos_tag\n",
        "from nltk.chunk import ne_chunk\n",
        "from nltk.chunk import tree2conlltags\n",
        "from nltk.corpus import stopwords\n",
        "from sklearn.model_selection import train_test_split"
      ],
      "metadata": {
        "id": "FQlRmYGdOFIL"
      },
      "execution_count": null,
      "outputs": []
    },
    {
      "cell_type": "code",
      "source": [
        "nltk.download('all')"
      ],
      "metadata": {
        "id": "NIhvVsL4gKIk",
        "colab": {
          "base_uri": "https://localhost:8080/"
        },
        "outputId": "8a33c1dc-639b-4c2d-e12e-94cb108bb63f"
      },
      "execution_count": null,
      "outputs": [
        {
          "output_type": "stream",
          "name": "stderr",
          "text": [
            "[nltk_data] Downloading collection 'all'\n",
            "[nltk_data]    | \n",
            "[nltk_data]    | Downloading package abc to /root/nltk_data...\n",
            "[nltk_data]    |   Unzipping corpora/abc.zip.\n",
            "[nltk_data]    | Downloading package alpino to /root/nltk_data...\n",
            "[nltk_data]    |   Unzipping corpora/alpino.zip.\n",
            "[nltk_data]    | Downloading package averaged_perceptron_tagger to\n",
            "[nltk_data]    |     /root/nltk_data...\n",
            "[nltk_data]    |   Unzipping taggers/averaged_perceptron_tagger.zip.\n",
            "[nltk_data]    | Downloading package averaged_perceptron_tagger_ru to\n",
            "[nltk_data]    |     /root/nltk_data...\n",
            "[nltk_data]    |   Unzipping\n",
            "[nltk_data]    |       taggers/averaged_perceptron_tagger_ru.zip.\n",
            "[nltk_data]    | Downloading package basque_grammars to\n",
            "[nltk_data]    |     /root/nltk_data...\n",
            "[nltk_data]    |   Unzipping grammars/basque_grammars.zip.\n",
            "[nltk_data]    | Downloading package bcp47 to /root/nltk_data...\n",
            "[nltk_data]    | Downloading package biocreative_ppi to\n",
            "[nltk_data]    |     /root/nltk_data...\n",
            "[nltk_data]    |   Unzipping corpora/biocreative_ppi.zip.\n",
            "[nltk_data]    | Downloading package bllip_wsj_no_aux to\n",
            "[nltk_data]    |     /root/nltk_data...\n",
            "[nltk_data]    |   Unzipping models/bllip_wsj_no_aux.zip.\n",
            "[nltk_data]    | Downloading package book_grammars to\n",
            "[nltk_data]    |     /root/nltk_data...\n",
            "[nltk_data]    |   Unzipping grammars/book_grammars.zip.\n",
            "[nltk_data]    | Downloading package brown to /root/nltk_data...\n",
            "[nltk_data]    |   Unzipping corpora/brown.zip.\n",
            "[nltk_data]    | Downloading package brown_tei to /root/nltk_data...\n",
            "[nltk_data]    |   Unzipping corpora/brown_tei.zip.\n",
            "[nltk_data]    | Downloading package cess_cat to /root/nltk_data...\n",
            "[nltk_data]    |   Unzipping corpora/cess_cat.zip.\n",
            "[nltk_data]    | Downloading package cess_esp to /root/nltk_data...\n",
            "[nltk_data]    |   Unzipping corpora/cess_esp.zip.\n",
            "[nltk_data]    | Downloading package chat80 to /root/nltk_data...\n",
            "[nltk_data]    |   Unzipping corpora/chat80.zip.\n",
            "[nltk_data]    | Downloading package city_database to\n",
            "[nltk_data]    |     /root/nltk_data...\n",
            "[nltk_data]    |   Unzipping corpora/city_database.zip.\n",
            "[nltk_data]    | Downloading package cmudict to /root/nltk_data...\n",
            "[nltk_data]    |   Unzipping corpora/cmudict.zip.\n",
            "[nltk_data]    | Downloading package comparative_sentences to\n",
            "[nltk_data]    |     /root/nltk_data...\n",
            "[nltk_data]    |   Unzipping corpora/comparative_sentences.zip.\n",
            "[nltk_data]    | Downloading package comtrans to /root/nltk_data...\n",
            "[nltk_data]    | Downloading package conll2000 to /root/nltk_data...\n",
            "[nltk_data]    |   Unzipping corpora/conll2000.zip.\n",
            "[nltk_data]    | Downloading package conll2002 to /root/nltk_data...\n",
            "[nltk_data]    |   Unzipping corpora/conll2002.zip.\n",
            "[nltk_data]    | Downloading package conll2007 to /root/nltk_data...\n",
            "[nltk_data]    | Downloading package crubadan to /root/nltk_data...\n",
            "[nltk_data]    |   Unzipping corpora/crubadan.zip.\n",
            "[nltk_data]    | Downloading package dependency_treebank to\n",
            "[nltk_data]    |     /root/nltk_data...\n",
            "[nltk_data]    |   Unzipping corpora/dependency_treebank.zip.\n",
            "[nltk_data]    | Downloading package dolch to /root/nltk_data...\n",
            "[nltk_data]    |   Unzipping corpora/dolch.zip.\n",
            "[nltk_data]    | Downloading package europarl_raw to\n",
            "[nltk_data]    |     /root/nltk_data...\n",
            "[nltk_data]    |   Unzipping corpora/europarl_raw.zip.\n",
            "[nltk_data]    | Downloading package extended_omw to\n",
            "[nltk_data]    |     /root/nltk_data...\n",
            "[nltk_data]    | Downloading package floresta to /root/nltk_data...\n",
            "[nltk_data]    |   Unzipping corpora/floresta.zip.\n",
            "[nltk_data]    | Downloading package framenet_v15 to\n",
            "[nltk_data]    |     /root/nltk_data...\n",
            "[nltk_data]    |   Unzipping corpora/framenet_v15.zip.\n",
            "[nltk_data]    | Downloading package framenet_v17 to\n",
            "[nltk_data]    |     /root/nltk_data...\n",
            "[nltk_data]    |   Unzipping corpora/framenet_v17.zip.\n",
            "[nltk_data]    | Downloading package gazetteers to /root/nltk_data...\n",
            "[nltk_data]    |   Unzipping corpora/gazetteers.zip.\n",
            "[nltk_data]    | Downloading package genesis to /root/nltk_data...\n",
            "[nltk_data]    |   Unzipping corpora/genesis.zip.\n",
            "[nltk_data]    | Downloading package gutenberg to /root/nltk_data...\n",
            "[nltk_data]    |   Unzipping corpora/gutenberg.zip.\n",
            "[nltk_data]    | Downloading package ieer to /root/nltk_data...\n",
            "[nltk_data]    |   Unzipping corpora/ieer.zip.\n",
            "[nltk_data]    | Downloading package inaugural to /root/nltk_data...\n",
            "[nltk_data]    |   Unzipping corpora/inaugural.zip.\n",
            "[nltk_data]    | Downloading package indian to /root/nltk_data...\n",
            "[nltk_data]    |   Unzipping corpora/indian.zip.\n",
            "[nltk_data]    | Downloading package jeita to /root/nltk_data...\n",
            "[nltk_data]    | Downloading package kimmo to /root/nltk_data...\n",
            "[nltk_data]    |   Unzipping corpora/kimmo.zip.\n",
            "[nltk_data]    | Downloading package knbc to /root/nltk_data...\n",
            "[nltk_data]    | Downloading package large_grammars to\n",
            "[nltk_data]    |     /root/nltk_data...\n",
            "[nltk_data]    |   Unzipping grammars/large_grammars.zip.\n",
            "[nltk_data]    | Downloading package lin_thesaurus to\n",
            "[nltk_data]    |     /root/nltk_data...\n",
            "[nltk_data]    |   Unzipping corpora/lin_thesaurus.zip.\n",
            "[nltk_data]    | Downloading package mac_morpho to /root/nltk_data...\n",
            "[nltk_data]    |   Unzipping corpora/mac_morpho.zip.\n",
            "[nltk_data]    | Downloading package machado to /root/nltk_data...\n",
            "[nltk_data]    | Downloading package masc_tagged to /root/nltk_data...\n",
            "[nltk_data]    | Downloading package maxent_ne_chunker to\n",
            "[nltk_data]    |     /root/nltk_data...\n",
            "[nltk_data]    |   Unzipping chunkers/maxent_ne_chunker.zip.\n",
            "[nltk_data]    | Downloading package maxent_treebank_pos_tagger to\n",
            "[nltk_data]    |     /root/nltk_data...\n",
            "[nltk_data]    |   Unzipping taggers/maxent_treebank_pos_tagger.zip.\n",
            "[nltk_data]    | Downloading package moses_sample to\n",
            "[nltk_data]    |     /root/nltk_data...\n",
            "[nltk_data]    |   Unzipping models/moses_sample.zip.\n",
            "[nltk_data]    | Downloading package movie_reviews to\n",
            "[nltk_data]    |     /root/nltk_data...\n",
            "[nltk_data]    |   Unzipping corpora/movie_reviews.zip.\n",
            "[nltk_data]    | Downloading package mte_teip5 to /root/nltk_data...\n",
            "[nltk_data]    |   Unzipping corpora/mte_teip5.zip.\n",
            "[nltk_data]    | Downloading package mwa_ppdb to /root/nltk_data...\n",
            "[nltk_data]    |   Unzipping misc/mwa_ppdb.zip.\n",
            "[nltk_data]    | Downloading package names to /root/nltk_data...\n",
            "[nltk_data]    |   Unzipping corpora/names.zip.\n",
            "[nltk_data]    | Downloading package nombank.1.0 to /root/nltk_data...\n",
            "[nltk_data]    | Downloading package nonbreaking_prefixes to\n",
            "[nltk_data]    |     /root/nltk_data...\n",
            "[nltk_data]    |   Unzipping corpora/nonbreaking_prefixes.zip.\n",
            "[nltk_data]    | Downloading package nps_chat to /root/nltk_data...\n",
            "[nltk_data]    |   Unzipping corpora/nps_chat.zip.\n",
            "[nltk_data]    | Downloading package omw to /root/nltk_data...\n",
            "[nltk_data]    | Downloading package omw-1.4 to /root/nltk_data...\n",
            "[nltk_data]    | Downloading package opinion_lexicon to\n",
            "[nltk_data]    |     /root/nltk_data...\n",
            "[nltk_data]    |   Unzipping corpora/opinion_lexicon.zip.\n",
            "[nltk_data]    | Downloading package panlex_swadesh to\n",
            "[nltk_data]    |     /root/nltk_data...\n",
            "[nltk_data]    | Downloading package paradigms to /root/nltk_data...\n",
            "[nltk_data]    |   Unzipping corpora/paradigms.zip.\n",
            "[nltk_data]    | Downloading package pe08 to /root/nltk_data...\n",
            "[nltk_data]    |   Unzipping corpora/pe08.zip.\n",
            "[nltk_data]    | Downloading package perluniprops to\n",
            "[nltk_data]    |     /root/nltk_data...\n",
            "[nltk_data]    |   Unzipping misc/perluniprops.zip.\n",
            "[nltk_data]    | Downloading package pil to /root/nltk_data...\n",
            "[nltk_data]    |   Unzipping corpora/pil.zip.\n",
            "[nltk_data]    | Downloading package pl196x to /root/nltk_data...\n",
            "[nltk_data]    |   Unzipping corpora/pl196x.zip.\n",
            "[nltk_data]    | Downloading package porter_test to /root/nltk_data...\n",
            "[nltk_data]    |   Unzipping stemmers/porter_test.zip.\n",
            "[nltk_data]    | Downloading package ppattach to /root/nltk_data...\n",
            "[nltk_data]    |   Unzipping corpora/ppattach.zip.\n",
            "[nltk_data]    | Downloading package problem_reports to\n",
            "[nltk_data]    |     /root/nltk_data...\n",
            "[nltk_data]    |   Unzipping corpora/problem_reports.zip.\n",
            "[nltk_data]    | Downloading package product_reviews_1 to\n",
            "[nltk_data]    |     /root/nltk_data...\n",
            "[nltk_data]    |   Unzipping corpora/product_reviews_1.zip.\n",
            "[nltk_data]    | Downloading package product_reviews_2 to\n",
            "[nltk_data]    |     /root/nltk_data...\n",
            "[nltk_data]    |   Unzipping corpora/product_reviews_2.zip.\n",
            "[nltk_data]    | Downloading package propbank to /root/nltk_data...\n",
            "[nltk_data]    | Downloading package pros_cons to /root/nltk_data...\n",
            "[nltk_data]    |   Unzipping corpora/pros_cons.zip.\n",
            "[nltk_data]    | Downloading package ptb to /root/nltk_data...\n",
            "[nltk_data]    |   Unzipping corpora/ptb.zip.\n",
            "[nltk_data]    | Downloading package punkt to /root/nltk_data...\n",
            "[nltk_data]    |   Unzipping tokenizers/punkt.zip.\n",
            "[nltk_data]    | Downloading package qc to /root/nltk_data...\n",
            "[nltk_data]    |   Unzipping corpora/qc.zip.\n",
            "[nltk_data]    | Downloading package reuters to /root/nltk_data...\n",
            "[nltk_data]    | Downloading package rslp to /root/nltk_data...\n",
            "[nltk_data]    |   Unzipping stemmers/rslp.zip.\n",
            "[nltk_data]    | Downloading package rte to /root/nltk_data...\n",
            "[nltk_data]    |   Unzipping corpora/rte.zip.\n",
            "[nltk_data]    | Downloading package sample_grammars to\n",
            "[nltk_data]    |     /root/nltk_data...\n",
            "[nltk_data]    |   Unzipping grammars/sample_grammars.zip.\n",
            "[nltk_data]    | Downloading package semcor to /root/nltk_data...\n",
            "[nltk_data]    | Downloading package senseval to /root/nltk_data...\n",
            "[nltk_data]    |   Unzipping corpora/senseval.zip.\n",
            "[nltk_data]    | Downloading package sentence_polarity to\n",
            "[nltk_data]    |     /root/nltk_data...\n",
            "[nltk_data]    |   Unzipping corpora/sentence_polarity.zip.\n",
            "[nltk_data]    | Downloading package sentiwordnet to\n",
            "[nltk_data]    |     /root/nltk_data...\n",
            "[nltk_data]    |   Unzipping corpora/sentiwordnet.zip.\n",
            "[nltk_data]    | Downloading package shakespeare to /root/nltk_data...\n",
            "[nltk_data]    |   Unzipping corpora/shakespeare.zip.\n",
            "[nltk_data]    | Downloading package sinica_treebank to\n",
            "[nltk_data]    |     /root/nltk_data...\n",
            "[nltk_data]    |   Unzipping corpora/sinica_treebank.zip.\n",
            "[nltk_data]    | Downloading package smultron to /root/nltk_data...\n",
            "[nltk_data]    |   Unzipping corpora/smultron.zip.\n",
            "[nltk_data]    | Downloading package snowball_data to\n",
            "[nltk_data]    |     /root/nltk_data...\n",
            "[nltk_data]    | Downloading package spanish_grammars to\n",
            "[nltk_data]    |     /root/nltk_data...\n",
            "[nltk_data]    |   Unzipping grammars/spanish_grammars.zip.\n",
            "[nltk_data]    | Downloading package state_union to /root/nltk_data...\n",
            "[nltk_data]    |   Unzipping corpora/state_union.zip.\n",
            "[nltk_data]    | Downloading package stopwords to /root/nltk_data...\n",
            "[nltk_data]    |   Unzipping corpora/stopwords.zip.\n",
            "[nltk_data]    | Downloading package subjectivity to\n",
            "[nltk_data]    |     /root/nltk_data...\n",
            "[nltk_data]    |   Unzipping corpora/subjectivity.zip.\n",
            "[nltk_data]    | Downloading package swadesh to /root/nltk_data...\n",
            "[nltk_data]    |   Unzipping corpora/swadesh.zip.\n",
            "[nltk_data]    | Downloading package switchboard to /root/nltk_data...\n",
            "[nltk_data]    |   Unzipping corpora/switchboard.zip.\n",
            "[nltk_data]    | Downloading package tagsets to /root/nltk_data...\n",
            "[nltk_data]    |   Unzipping help/tagsets.zip.\n",
            "[nltk_data]    | Downloading package timit to /root/nltk_data...\n",
            "[nltk_data]    |   Unzipping corpora/timit.zip.\n",
            "[nltk_data]    | Downloading package toolbox to /root/nltk_data...\n",
            "[nltk_data]    |   Unzipping corpora/toolbox.zip.\n",
            "[nltk_data]    | Downloading package treebank to /root/nltk_data...\n",
            "[nltk_data]    |   Unzipping corpora/treebank.zip.\n",
            "[nltk_data]    | Downloading package twitter_samples to\n",
            "[nltk_data]    |     /root/nltk_data...\n",
            "[nltk_data]    |   Unzipping corpora/twitter_samples.zip.\n",
            "[nltk_data]    | Downloading package udhr to /root/nltk_data...\n",
            "[nltk_data]    |   Unzipping corpora/udhr.zip.\n",
            "[nltk_data]    | Downloading package udhr2 to /root/nltk_data...\n",
            "[nltk_data]    |   Unzipping corpora/udhr2.zip.\n",
            "[nltk_data]    | Downloading package unicode_samples to\n",
            "[nltk_data]    |     /root/nltk_data...\n",
            "[nltk_data]    |   Unzipping corpora/unicode_samples.zip.\n",
            "[nltk_data]    | Downloading package universal_tagset to\n",
            "[nltk_data]    |     /root/nltk_data...\n",
            "[nltk_data]    |   Unzipping taggers/universal_tagset.zip.\n",
            "[nltk_data]    | Downloading package universal_treebanks_v20 to\n",
            "[nltk_data]    |     /root/nltk_data...\n",
            "[nltk_data]    | Downloading package vader_lexicon to\n",
            "[nltk_data]    |     /root/nltk_data...\n",
            "[nltk_data]    | Downloading package verbnet to /root/nltk_data...\n",
            "[nltk_data]    |   Unzipping corpora/verbnet.zip.\n",
            "[nltk_data]    | Downloading package verbnet3 to /root/nltk_data...\n",
            "[nltk_data]    |   Unzipping corpora/verbnet3.zip.\n",
            "[nltk_data]    | Downloading package webtext to /root/nltk_data...\n",
            "[nltk_data]    |   Unzipping corpora/webtext.zip.\n",
            "[nltk_data]    | Downloading package wmt15_eval to /root/nltk_data...\n",
            "[nltk_data]    |   Unzipping models/wmt15_eval.zip.\n",
            "[nltk_data]    | Downloading package word2vec_sample to\n",
            "[nltk_data]    |     /root/nltk_data...\n",
            "[nltk_data]    |   Unzipping models/word2vec_sample.zip.\n",
            "[nltk_data]    | Downloading package wordnet to /root/nltk_data...\n",
            "[nltk_data]    | Downloading package wordnet2021 to /root/nltk_data...\n",
            "[nltk_data]    | Downloading package wordnet2022 to /root/nltk_data...\n",
            "[nltk_data]    |   Unzipping corpora/wordnet2022.zip.\n",
            "[nltk_data]    | Downloading package wordnet31 to /root/nltk_data...\n",
            "[nltk_data]    | Downloading package wordnet_ic to /root/nltk_data...\n",
            "[nltk_data]    |   Unzipping corpora/wordnet_ic.zip.\n",
            "[nltk_data]    | Downloading package words to /root/nltk_data...\n",
            "[nltk_data]    |   Unzipping corpora/words.zip.\n",
            "[nltk_data]    | Downloading package ycoe to /root/nltk_data...\n",
            "[nltk_data]    |   Unzipping corpora/ycoe.zip.\n",
            "[nltk_data]    | \n",
            "[nltk_data]  Done downloading collection all\n"
          ]
        },
        {
          "output_type": "execute_result",
          "data": {
            "text/plain": [
              "True"
            ]
          },
          "metadata": {},
          "execution_count": 2
        }
      ]
    },
    {
      "cell_type": "markdown",
      "source": [
        "### Data prepping"
      ],
      "metadata": {
        "id": "WfecLA17f0ga"
      }
    },
    {
      "cell_type": "code",
      "source": [
        "# Step 1: Load the CSV file\n",
        "df = pd.read_csv('/meghan_tweets.csv', encoding='utf-8')\n",
        "\n",
        "# Remove duplicate tweets directly in the DataFrame\n",
        "df_unique = df.drop_duplicates(subset='Tweet')\n",
        "\n",
        "# You can optionally reset the index if you want a continuous index after dropping duplicates\n",
        "df_unique = df_unique.reset_index(drop=True)\n",
        "\n",
        "\n",
        "# Step 2: Extract the 'Tweet' column\n",
        "tweets = df['Tweet'].tolist()\n",
        "\n",
        "# Load the set of English stopwords\n",
        "stop_words = set(stopwords.words('english'))\n",
        "\n",
        "def process_tweet(tweet):\n",
        "    # Tokenize the tweet\n",
        "    tokens = word_tokenize(tweet)\n",
        "\n",
        "    # Apply POS tagging\n",
        "    pos_tags = pos_tag(tokens)\n",
        "\n",
        "    # Parse named entities using a chunk parser\n",
        "    named_entities = ne_chunk(pos_tags)\n",
        "\n",
        "    # Convert the tree to IOB tags (token, pos, iob_ne)\n",
        "    iob_tagged = tree2conlltags(named_entities)\n",
        "\n",
        "    # Skip stopwords\n",
        "    iob_tagged_nonstop = [(word, pos, iob) for word, pos, iob in iob_tagged if word.lower() not in stop_words]\n",
        "\n",
        "    return iob_tagged_nonstop"
      ],
      "metadata": {
        "id": "MIKulT_Wfp3h"
      },
      "execution_count": null,
      "outputs": []
    },
    {
      "cell_type": "markdown",
      "source": [
        "### Problem: Class Imbalance\n",
        "As we can observe, we have a greater number of entities labeled as O (like 1071544) with respect to other entities. This causes the model to learn to predict 'O' most of the time because it's the dominant class.\n",
        "\n",
        "### Solution: Class Balancing"
      ],
      "metadata": {
        "id": "Dcy2FuLEvW2e"
      }
    },
    {
      "cell_type": "code",
      "source": [
        "# Define a threshold for maximum proportion of 'O' class labels allowed in a tweet\n",
        "O_CLASS_THRESHOLD = 0.5  # e.g., no more than 50% of tokens may be 'O'\n",
        "\n",
        "# Initialize lists to hold features and labels for training\n",
        "training_features = []\n",
        "training_gold_labels = []\n",
        "\n",
        "# Process each tweet\n",
        "for tweet in tweets:\n",
        "    # Process each tweet to get (word, pos, ne_label) tuples\n",
        "    processed_tweet = process_tweet(tweet)\n",
        "\n",
        "    # Calculate the proportion of 'O' class labels in the processed tweet\n",
        "    o_label_count = sum(1 for _, _, ne_label in processed_tweet if ne_label == 'O')\n",
        "    o_label_proportion = o_label_count / len(processed_tweet)\n",
        "\n",
        "    # Only proceed if the proportion of 'O' class labels is below the threshold\n",
        "    if o_label_proportion <= O_CLASS_THRESHOLD:\n",
        "        # For each token in the processed tweet, extract features and NE labels\n",
        "        for token, pos, ne_label in processed_tweet:\n",
        "            # Create a feature dictionary for each token\n",
        "            a_dict = {\n",
        "                'words': token,\n",
        "                'pos': pos,\n",
        "            }\n",
        "            # Append the feature dictionary and NE label to the respective lists\n",
        "            training_features.append(a_dict)\n",
        "            training_gold_labels.append(ne_label)"
      ],
      "metadata": {
        "id": "F0qkriTkwS5n"
      },
      "execution_count": null,
      "outputs": []
    },
    {
      "cell_type": "code",
      "source": [
        "from collections import Counter\n",
        "\n",
        "# Calculate the number of instances in train set\n",
        "num_train_instances = len(training_features)\n",
        "\n",
        "# Generate frequency distribution of NERC labels in train\n",
        "train_label_freq = Counter(training_gold_labels)\n",
        "\n",
        "# Print the number of instances in train\n",
        "print(\"Number of instances in train:\", num_train_instances)\n",
        "print()\n",
        "\n",
        "# Print frequency distribution of NERC labels in train dataset\n",
        "print(\"NERC label frequency in train dataset:\")\n",
        "for label, freq in train_label_freq.items():\n",
        "    print(f\"{label}: {freq}\")"
      ],
      "metadata": {
        "colab": {
          "base_uri": "https://localhost:8080/"
        },
        "id": "BcoxBOOvzoqL",
        "outputId": "b990e5b9-af98-4743-b343-06e7d4c507ff"
      },
      "execution_count": null,
      "outputs": [
        {
          "output_type": "stream",
          "name": "stdout",
          "text": [
            "Number of instances in train: 5920\n",
            "\n",
            "NERC label frequency in train dataset:\n",
            "O: 2699\n",
            "B-ORGANIZATION: 1057\n",
            "I-ORGANIZATION: 341\n",
            "B-PERSON: 849\n",
            "I-PERSON: 720\n",
            "B-GPE: 222\n",
            "B-FACILITY: 11\n",
            "I-FACILITY: 11\n",
            "B-GSP: 3\n",
            "I-GPE: 7\n"
          ]
        }
      ]
    },
    {
      "cell_type": "markdown",
      "source": [
        "### Test Set"
      ],
      "metadata": {
        "id": "dws2w3rBpJnp"
      }
    },
    {
      "cell_type": "code",
      "source": [
        "import pandas as pd\n",
        "\n",
        "# Load the TSV file into a DataFrame\n",
        "df_test = pd.read_csv('NER-test.tsv', delimiter='\\t', header=None, names=['words', 'pos', 'ignore', 'chunk'])\n",
        "\n",
        "# Since the DataFrame df_test already contains the words, POS tags, and chunk labels,\n",
        "# you can directly use it to create features and gold labels for the test set.\n",
        "test_features = []\n",
        "test_gold_labels = []\n",
        "\n",
        "# Iterate over each row in the DataFrame, skipping stopwords\n",
        "for index, row in df_test.iterrows():\n",
        "    # Check if the word is not a stopword\n",
        "    if row['words'].lower() not in stop_words:\n",
        "        # Create a feature dictionary for each token that is not a stopword\n",
        "        a_dict = {\n",
        "            'words': row['words'],\n",
        "            'pos': row['pos'],\n",
        "        }\n",
        "        # Append the feature dictionary to the test features\n",
        "        test_features.append(a_dict)\n",
        "\n",
        "        # Append the chunk label to the test gold labels\n",
        "        test_gold_labels.append(row['chunk'])"
      ],
      "metadata": {
        "id": "BYiE7bmnOHRj",
        "colab": {
          "base_uri": "https://localhost:8080/"
        },
        "outputId": "a6ba0954-24f0-4ee7-d00a-5436d503a947"
      },
      "execution_count": null,
      "outputs": [
        {
          "output_type": "stream",
          "name": "stdout",
          "text": [
            "Test Features:\n",
            "{'words': 'sentence id', 'pos': 'token id'}\n",
            "{'words': '0', 'pos': '0'}\n",
            "{'words': '0', 'pos': '1'}\n",
            "{'words': '0', 'pos': '2'}\n",
            "{'words': '0', 'pos': '3'}\n",
            "{'words': '0', 'pos': '4'}\n",
            "{'words': '0', 'pos': '5'}\n",
            "{'words': '0', 'pos': '6'}\n",
            "{'words': '0', 'pos': '7'}\n",
            "{'words': '0', 'pos': '8'}\n",
            "{'words': '0', 'pos': '9'}\n",
            "{'words': '0', 'pos': '10'}\n",
            "{'words': '0', 'pos': '11'}\n",
            "{'words': '0', 'pos': '12'}\n",
            "{'words': '0', 'pos': '13'}\n",
            "{'words': '0', 'pos': '14'}\n",
            "{'words': '0', 'pos': '15'}\n",
            "{'words': '0', 'pos': '16'}\n",
            "{'words': '1', 'pos': '0'}\n",
            "{'words': '1', 'pos': '1'}\n",
            "\n",
            "Test Gold Labels:\n",
            "BIO NER tag\n",
            "O\n",
            "O\n",
            "O\n",
            "O\n",
            "O\n",
            "O\n",
            "O\n",
            "O\n",
            "B-ORG\n",
            "O\n",
            "O\n",
            "O\n",
            "O\n",
            "O\n",
            "B-PERSON\n",
            "I-PERSON\n",
            "O\n",
            "B-PERSON\n",
            "I-PERSON\n"
          ]
        }
      ]
    },
    {
      "cell_type": "code",
      "source": [
        "from collections import Counter\n",
        "\n",
        "# Calculate the number of instances in test\n",
        "num_test_instances = len(test_features)\n",
        "\n",
        "# Generate frequency distribution of NERC labels in test datasets\n",
        "test_label_freq = Counter(test_gold_labels)\n",
        "\n",
        "# Print the number of instances in test datasets\n",
        "print(\"Number of instances in test:\", num_test_instances)\n",
        "print()\n",
        "\n",
        "\n",
        "# Print frequency distribution of NERC labels in test dataset\n",
        "print(\"\\nNERC label frequency in test dataset:\")\n",
        "for label, freq in test_label_freq.items():\n",
        "    print(f\"{label}: {freq}\")\n"
      ],
      "metadata": {
        "id": "h41TjrWfOHOr",
        "colab": {
          "base_uri": "https://localhost:8080/"
        },
        "outputId": "8651b8ad-bb7e-4bfb-ea2a-1e51f09e06cd"
      },
      "execution_count": null,
      "outputs": [
        {
          "output_type": "stream",
          "name": "stdout",
          "text": [
            "Number of instances in test: 194\n",
            "\n",
            "\n",
            "NERC label frequency in test dataset:\n",
            "BIO NER tag: 1\n",
            "O: 160\n",
            "B-ORG: 3\n",
            "B-PERSON: 3\n",
            "I-PERSON: 2\n",
            "I-ORG: 6\n",
            "B-WORK_OF_ART: 4\n",
            "I-WORK_OF_ART: 9\n",
            "B-PER: 3\n",
            "B-DATE: 1\n",
            "I-DATE: 1\n",
            "I-PER: 1\n"
          ]
        }
      ]
    },
    {
      "cell_type": "markdown",
      "source": [
        "### NERC Task with SVM"
      ],
      "metadata": {
        "id": "3otrYVJjqnsl"
      }
    },
    {
      "cell_type": "code",
      "source": [
        "from sklearn.feature_extraction import DictVectorizer\n",
        "\n",
        "\n",
        "# Concatenate train and test features into one list\n",
        "all_features = training_features + test_features\n",
        "\n",
        "# Load the concatenated list of dictionaries\n",
        "vectorizer = DictVectorizer()\n",
        "all_features_vectorized = vectorizer.fit_transform(all_features)\n",
        "\n",
        "# Split back into training and test sets using an index\n",
        "num_train_instances = len(training_features)\n",
        "train_features_vectorized = all_features_vectorized[:num_train_instances]\n",
        "test_features_vectorized = all_features_vectorized[num_train_instances:]\n",
        "\n",
        "# Print the shape of the training and test feature vectors\n",
        "print(\"Shape of training feature vector:\", train_features_vectorized.shape)\n",
        "print(\"Shape of test feature vector:\", test_features_vectorized.shape)\n"
      ],
      "metadata": {
        "id": "f1uz5FS8OHL-",
        "colab": {
          "base_uri": "https://localhost:8080/",
          "height": 211
        },
        "outputId": "2c36cbff-cfff-4155-eee1-725861c47345"
      },
      "execution_count": null,
      "outputs": [
        {
          "output_type": "error",
          "ename": "NameError",
          "evalue": "name 'training_features' is not defined",
          "traceback": [
            "\u001b[0;31m---------------------------------------------------------------------------\u001b[0m",
            "\u001b[0;31mNameError\u001b[0m                                 Traceback (most recent call last)",
            "\u001b[0;32m<ipython-input-8-5a304f4792f8>\u001b[0m in \u001b[0;36m<cell line: 5>\u001b[0;34m()\u001b[0m\n\u001b[1;32m      3\u001b[0m \u001b[0;34m\u001b[0m\u001b[0m\n\u001b[1;32m      4\u001b[0m \u001b[0;31m# Concatenate train and test features into one list\u001b[0m\u001b[0;34m\u001b[0m\u001b[0;34m\u001b[0m\u001b[0m\n\u001b[0;32m----> 5\u001b[0;31m \u001b[0mall_features\u001b[0m \u001b[0;34m=\u001b[0m \u001b[0mtraining_features\u001b[0m \u001b[0;34m+\u001b[0m \u001b[0mtest_features\u001b[0m\u001b[0;34m\u001b[0m\u001b[0;34m\u001b[0m\u001b[0m\n\u001b[0m\u001b[1;32m      6\u001b[0m \u001b[0;34m\u001b[0m\u001b[0m\n\u001b[1;32m      7\u001b[0m \u001b[0;31m# Load the concatenated list of dictionaries\u001b[0m\u001b[0;34m\u001b[0m\u001b[0;34m\u001b[0m\u001b[0m\n",
            "\u001b[0;31mNameError\u001b[0m: name 'training_features' is not defined"
          ]
        }
      ]
    },
    {
      "cell_type": "code",
      "source": [
        "from sklearn import svm\n",
        "from sklearn.metrics import classification_report\n"
      ],
      "metadata": {
        "id": "-z3pJ1eTOHI-"
      },
      "execution_count": null,
      "outputs": []
    },
    {
      "cell_type": "code",
      "source": [
        "# Initialize the SVM classifier with balanced class weights\n",
        "lin_clf = svm.LinearSVC()\n",
        "\n",
        "# Fit the model on the training data\n",
        "lin_clf.fit(train_features_vectorized, training_gold_labels)\n",
        "\n",
        "# Predict the labels on the test data\n",
        "test_predictions = lin_clf.predict(test_features_vectorized)\n",
        "\n",
        "# Generate a classification report\n",
        "report = classification_report(test_gold_labels, test_predictions)\n",
        "\n",
        "print(report)"
      ],
      "metadata": {
        "id": "1PwlBl0yOHFo",
        "colab": {
          "base_uri": "https://localhost:8080/"
        },
        "outputId": "5d114106-b506-45c8-8e2a-50425aa09027"
      },
      "execution_count": null,
      "outputs": [
        {
          "output_type": "stream",
          "name": "stdout",
          "text": [
            "               precision    recall  f1-score   support\n",
            "\n",
            "       B-DATE       0.00      0.00      0.00         1\n",
            "        B-ORG       0.00      0.00      0.00         3\n",
            "        B-PER       0.00      0.00      0.00         3\n",
            "     B-PERSON       0.00      0.00      0.00         3\n",
            "B-WORK_OF_ART       0.00      0.00      0.00         4\n",
            "  BIO NER tag       0.00      0.00      0.00         1\n",
            "       I-DATE       0.00      0.00      0.00         1\n",
            "        I-ORG       0.00      0.00      0.00         6\n",
            "        I-PER       0.00      0.00      0.00         1\n",
            "     I-PERSON       0.00      0.00      0.00         2\n",
            "I-WORK_OF_ART       0.00      0.00      0.00         9\n",
            "            O       0.82      1.00      0.90       160\n",
            "\n",
            "     accuracy                           0.82       194\n",
            "    macro avg       0.07      0.08      0.08       194\n",
            " weighted avg       0.68      0.82      0.75       194\n",
            "\n"
          ]
        },
        {
          "output_type": "stream",
          "name": "stderr",
          "text": [
            "/usr/local/lib/python3.10/dist-packages/sklearn/metrics/_classification.py:1344: UndefinedMetricWarning: Precision and F-score are ill-defined and being set to 0.0 in labels with no predicted samples. Use `zero_division` parameter to control this behavior.\n",
            "  _warn_prf(average, modifier, msg_start, len(result))\n",
            "/usr/local/lib/python3.10/dist-packages/sklearn/metrics/_classification.py:1344: UndefinedMetricWarning: Precision and F-score are ill-defined and being set to 0.0 in labels with no predicted samples. Use `zero_division` parameter to control this behavior.\n",
            "  _warn_prf(average, modifier, msg_start, len(result))\n",
            "/usr/local/lib/python3.10/dist-packages/sklearn/metrics/_classification.py:1344: UndefinedMetricWarning: Precision and F-score are ill-defined and being set to 0.0 in labels with no predicted samples. Use `zero_division` parameter to control this behavior.\n",
            "  _warn_prf(average, modifier, msg_start, len(result))\n"
          ]
        }
      ]
    },
    {
      "cell_type": "markdown",
      "source": [
        "The imbalance in the test set could be leading the model to predict 'O' for almost all instances because this is statistically the most successful prediction. A model's performance is not only a function of the quality of training but also the quality of the test data on which it is evaluated. If the test data is not representative of the true data distribution or lacks sufficient examples of certain classes, the model will not be able to demonstrate its true predictive power for those classes.\n",
        "\n"
      ],
      "metadata": {
        "id": "iZfuJmDG9_O2"
      }
    },
    {
      "cell_type": "markdown",
      "source": [
        "### Check How Our Model Performs\n",
        "\n",
        "Since the test set provided appears to be imbalanced, we decided to check how our model performs we decided to split it into training and test sets (with a 80:20 proportion)."
      ],
      "metadata": {
        "id": "8IFAbLHb6VV7"
      }
    },
    {
      "cell_type": "code",
      "source": [
        "# Load the CSV file into a DataFrame\n",
        "df = pd.read_csv('meghan_tweets.csv')\n",
        "\n",
        "# Remove duplicate tweets directly in the DataFrame\n",
        "df_unique = df.drop_duplicates(subset='Tweet')\n",
        "\n",
        "# You can optionally reset the index if you want a continuous index after dropping duplicates\n",
        "df_unique = df_unique.reset_index(drop=True)\n",
        "\n",
        "# Step 2: Extract the 'Tweet' column\n",
        "tweets = df['Tweet'].tolist()\n",
        "\n",
        "# Load the set of English stopwords\n",
        "stop_words = set(stopwords.words('english'))\n",
        "\n",
        "# Define the function for processing tweets\n",
        "def process_tweet(tweet):\n",
        "    # Tokenize, POS tag, NER chunk, and IOB tag\n",
        "    tokens = word_tokenize(tweet)\n",
        "    pos_tags = pos_tag(tokens)\n",
        "    ne_chunks = ne_chunk(pos_tags)\n",
        "    iob_tagged = tree2conlltags(ne_chunks)\n",
        "    return iob_tagged\n",
        "\n",
        "# Define a threshold for maximum proportion of 'O' class labels allowed in a tweet\n",
        "O_CLASS_THRESHOLD = 0.5\n",
        "\n",
        "# Initialize lists to hold all processed features and labels\n",
        "all_features = []\n",
        "all_labels = []\n",
        "\n",
        "# Process each tweet and create a list of features and labels\n",
        "for tweet in tweets:\n",
        "    processed_tweet = process_tweet(tweet)\n",
        "\n",
        "    o_label_count = sum(1 for _, _, label in processed_tweet if label == 'O')\n",
        "    o_label_proportion = o_label_count / len(processed_tweet)\n",
        "\n",
        "    if o_label_proportion <= O_CLASS_THRESHOLD:\n",
        "        for token, pos, ne_label in processed_tweet:\n",
        "            all_features.append({'words': token, 'pos': pos})\n",
        "            all_labels.append(ne_label)\n",
        "\n",
        "# Split the processed features and labels into training and test sets (80:20 split)\n",
        "features_train, features_test, labels_train, labels_test = train_test_split(\n",
        "    all_features, all_labels, test_size=0.20, random_state=42\n",
        ")\n"
      ],
      "metadata": {
        "id": "ExfoZPpa7Cxk"
      },
      "execution_count": null,
      "outputs": []
    },
    {
      "cell_type": "code",
      "source": [
        "from collections import Counter\n",
        "\n",
        "# Calculate the number of instances in train set\n",
        "num_train_instances = len(features_train)\n",
        "\n",
        "# Generate frequency distribution of NERC labels in train\n",
        "train_label_freq = Counter(labels_train)\n",
        "\n",
        "# Print the number of instances in train\n",
        "print(\"Number of instances in train:\", num_train_instances)\n",
        "print()\n",
        "\n",
        "# Print frequency distribution of NERC labels in train dataset\n",
        "print(\"NERC label frequency in train dataset:\")\n",
        "for label, freq in train_label_freq.items():\n",
        "    print(f\"{label}: {freq}\")\n",
        "print()\n",
        "\n",
        "# Calculate the number of instances in test\n",
        "num_test_instances = len(features_test)\n",
        "\n",
        "# Generate frequency distribution of NERC labels in test datasets\n",
        "test_label_freq = Counter(labels_test)\n",
        "\n",
        "# Print the number of instances in test datasets\n",
        "print(\"Number of instances in test:\", num_test_instances)\n",
        "# Print frequency distribution of NERC labels in test dataset\n",
        "print(\"\\nNERC label frequency in test dataset:\")\n",
        "for label, freq in test_label_freq.items():\n",
        "    print(f\"{label}: {freq}\")"
      ],
      "metadata": {
        "colab": {
          "base_uri": "https://localhost:8080/"
        },
        "id": "SeNyz03i-orV",
        "outputId": "4ca170a7-0d29-4b5a-e98e-0a1e39608b69"
      },
      "execution_count": null,
      "outputs": [
        {
          "output_type": "stream",
          "name": "stdout",
          "text": [
            "Number of instances in train: 2032\n",
            "\n",
            "NERC label frequency in train dataset:\n",
            "O: 923\n",
            "I-PERSON: 327\n",
            "B-GPE: 62\n",
            "B-PERSON: 271\n",
            "B-ORGANIZATION: 277\n",
            "I-ORGANIZATION: 165\n",
            "B-GSP: 1\n",
            "I-FACILITY: 3\n",
            "I-GPE: 2\n",
            "B-FACILITY: 1\n",
            "\n",
            "Number of instances in test: 508\n",
            "\n",
            "NERC label frequency in test dataset:\n",
            "B-PERSON: 58\n",
            "I-PERSON: 85\n",
            "O: 241\n",
            "B-GPE: 7\n",
            "B-ORGANIZATION: 63\n",
            "I-ORGANIZATION: 49\n",
            "I-FACILITY: 2\n",
            "B-GSP: 1\n",
            "B-FACILITY: 1\n",
            "I-GPE: 1\n"
          ]
        }
      ]
    },
    {
      "cell_type": "code",
      "source": [
        "from sklearn.feature_extraction import DictVectorizer\n",
        "\n",
        "# Concatenate train and test features into one list\n",
        "all_features = features_train + features_test\n",
        "\n",
        "# Load the concatenated list of dictionaries\n",
        "vectorizer = DictVectorizer()\n",
        "all_features_vectorized = vectorizer.fit_transform(all_features)\n",
        "\n",
        "# Split back into training and test sets using an index\n",
        "num_train_instances = len(features_train)\n",
        "train_features_vectorized = all_features_vectorized[:num_train_instances]\n",
        "test_features_vectorized = all_features_vectorized[num_train_instances:]\n",
        "\n",
        "# Print the shape of the training and test feature vectors\n",
        "print(\"Shape of training feature vector:\", train_features_vectorized.shape)\n",
        "print(\"Shape of test feature vector:\", test_features_vectorized.shape)"
      ],
      "metadata": {
        "id": "Rw04CkR77nIQ",
        "colab": {
          "base_uri": "https://localhost:8080/"
        },
        "outputId": "be680c45-5ad2-4786-f0f7-63bbbf93d0c2"
      },
      "execution_count": null,
      "outputs": [
        {
          "output_type": "stream",
          "name": "stdout",
          "text": [
            "Shape of training feature vector: (2032, 894)\n",
            "Shape of test feature vector: (508, 894)\n"
          ]
        }
      ]
    },
    {
      "cell_type": "code",
      "source": [
        "from sklearn import svm\n",
        "from sklearn.metrics import classification_report\n",
        "\n",
        "# Initialize the SVM classifier with balanced class weights\n",
        "lin_clf = svm.LinearSVC()\n",
        "\n",
        "# Fit the model on the training data\n",
        "lin_clf.fit(train_features_vectorized, labels_train)\n",
        "\n",
        "# Predict the labels on the test data\n",
        "test_predictions = lin_clf.predict(test_features_vectorized)\n",
        "\n",
        "# Generate a classification report\n",
        "report = classification_report(labels_test, test_predictions)\n",
        "\n",
        "print(report)"
      ],
      "metadata": {
        "id": "aYQoGiEy7LGk",
        "colab": {
          "base_uri": "https://localhost:8080/"
        },
        "outputId": "907dbb5c-dea3-4c18-9a36-84281249eb78"
      },
      "execution_count": null,
      "outputs": [
        {
          "output_type": "stream",
          "name": "stdout",
          "text": [
            "                precision    recall  f1-score   support\n",
            "\n",
            "    B-FACILITY       0.00      0.00      0.00         1\n",
            "         B-GPE       0.44      0.57      0.50         7\n",
            "         B-GSP       0.00      0.00      0.00         1\n",
            "B-ORGANIZATION       0.97      0.59      0.73        63\n",
            "      B-PERSON       0.53      0.45      0.49        58\n",
            "    I-FACILITY       0.00      0.00      0.00         2\n",
            "         I-GPE       0.00      0.00      0.00         1\n",
            "I-ORGANIZATION       0.35      0.16      0.22        49\n",
            "      I-PERSON       0.39      0.76      0.52        85\n",
            "             O       0.94      0.87      0.91       241\n",
            "\n",
            "      accuracy                           0.69       508\n",
            "     macro avg       0.36      0.34      0.34       508\n",
            "  weighted avg       0.73      0.69      0.69       508\n",
            "\n"
          ]
        },
        {
          "output_type": "stream",
          "name": "stderr",
          "text": [
            "/usr/local/lib/python3.10/dist-packages/sklearn/metrics/_classification.py:1344: UndefinedMetricWarning: Precision and F-score are ill-defined and being set to 0.0 in labels with no predicted samples. Use `zero_division` parameter to control this behavior.\n",
            "  _warn_prf(average, modifier, msg_start, len(result))\n",
            "/usr/local/lib/python3.10/dist-packages/sklearn/metrics/_classification.py:1344: UndefinedMetricWarning: Precision and F-score are ill-defined and being set to 0.0 in labels with no predicted samples. Use `zero_division` parameter to control this behavior.\n",
            "  _warn_prf(average, modifier, msg_start, len(result))\n",
            "/usr/local/lib/python3.10/dist-packages/sklearn/metrics/_classification.py:1344: UndefinedMetricWarning: Precision and F-score are ill-defined and being set to 0.0 in labels with no predicted samples. Use `zero_division` parameter to control this behavior.\n",
            "  _warn_prf(average, modifier, msg_start, len(result))\n"
          ]
        }
      ]
    },
    {
      "cell_type": "markdown",
      "source": [
        "**Our Report splitting our dataset into training and test set:**\n",
        "\n",
        "Had higher precision for specific classes like B-ORG, B-PERSON, and I-PERSON.\n",
        "Showed some ability to identify a wider range of entity types beyond just the 'O' class.\n",
        "Exhibited lower overall accuracy (0.69 compared to 0.82).\n",
        "The macro average scores were higher (around 0.34 compared to 0.07), indicating a slightly better balance across different classes.\n",
        "The weighted average scores took into account the support for each class, resulting in higher averages due to the 'O' class's dominance.\n",
        "\n",
        "**Report for our dataset for training and given (imbalanced) dataset**\n",
        "\n",
        "Shows zero precision, recall, and F1-score for all named entity classes except the 'O' class.\n",
        "The 'O' class has very high precision, recall, and F1-scores, indicating the model almost exclusively predicts the 'O' class.\n",
        "Exhibited higher overall accuracy (0.82), but this is likely due to the model's bias toward predicting the 'O' class, which is the most frequent.\n",
        "Both macro and weighted average scores are significantly lower, suggesting that the model is less capable of identifying entities across the board."
      ],
      "metadata": {
        "id": "gnITO6zTCd6n"
      }
    },
    {
      "cell_type": "markdown",
      "source": [
        "# SENTIMENT ANALYSIS"
      ],
      "metadata": {
        "id": "JMLaNNJ42LC7"
      }
    },
    {
      "cell_type": "markdown",
      "source": [
        "### Vader"
      ],
      "metadata": {
        "id": "Sh9Gs0a7R1Hg"
      }
    },
    {
      "cell_type": "code",
      "source": [
        "import pandas as pd\n",
        "from nltk.sentiment import SentimentIntensityAnalyzer\n",
        "\n",
        "# Load the CSV file into a DataFrame\n",
        "df = pd.read_csv('meghan_tweets.csv')\n",
        "\n",
        "# Initialize VADER's SentimentIntensityAnalyzer\n",
        "sia = SentimentIntensityAnalyzer()\n",
        "\n",
        "# Define a list to store tweet information and sentiment\n",
        "tweets_sentiment = []\n",
        "\n",
        "# Add sentiment scores to the DataFrame and store results in the list\n",
        "for index, row in df.iterrows():\n",
        "    sentiment_score = sia.polarity_scores(row[\"Tweet\"])['compound']\n",
        "    tweet_info = {\n",
        "        \"text\": row[\"Tweet\"],\n",
        "        \"sentiment_score\": sentiment_score\n",
        "    }\n",
        "    tweets_sentiment.append(tweet_info)\n",
        "\n",
        "\n",
        "# Accessing the first tweet's information as an example\n",
        "first_tweet_info = tweets_sentiment[0]\n",
        "print(first_tweet_info['text'])  # This will print the text of the first tweet\n",
        "print(first_tweet_info['sentiment_score'])  # This will print the sentiment score of the first tweet"
      ],
      "metadata": {
        "id": "r5yIWKZTR3tg",
        "colab": {
          "base_uri": "https://localhost:8080/"
        },
        "outputId": "324bf169-2ca6-4d17-8f21-17a9c6e9380f"
      },
      "execution_count": null,
      "outputs": [
        {
          "output_type": "stream",
          "name": "stdout",
          "text": [
            "@RoyalFamily @ClarenceHouse @KensingtonRoyal\n",
            " \"we are very much not a racist family\" said #PrinceWilliam… https://t.co/eovEe8h92H\n",
            "0.5398\n"
          ]
        }
      ]
    },
    {
      "cell_type": "code",
      "source": [
        "def vader_output_to_label(vader_output):\n",
        "    \"\"\"\n",
        "    map vader output e.g.,\n",
        "    {'neg': 0.0, 'neu': 0.0, 'pos': 1.0, 'compound': 0.4215}\n",
        "    to one of the following values:\n",
        "    a) positive float -> 'positive'\n",
        "    b) 0.0 -> 'neutral'\n",
        "    c) negative float -> 'negative'\n",
        "\n",
        "    :param dict vader_output: output dict from vader\n",
        "\n",
        "    :rtype: str\n",
        "    :return: 'negative' | 'neutral' | 'positive'\n",
        "    \"\"\"\n",
        "    compound = vader_output['compound']\n",
        "\n",
        "    if compound < 0:\n",
        "        return 'negative'\n",
        "    elif compound == 0.0:\n",
        "        return 'neutral'\n",
        "    elif compound > 0.0:\n",
        "        return 'positive'\n",
        "\n",
        "assert vader_output_to_label( {'neg': 0.0, 'neu': 0.0, 'pos': 1.0, 'compound': 0.0}) == 'neutral'\n",
        "assert vader_output_to_label( {'neg': 0.0, 'neu': 0.0, 'pos': 1.0, 'compound': 0.01}) == 'positive'\n",
        "assert vader_output_to_label( {'neg': 0.0, 'neu': 0.0, 'pos': 1.0, 'compound': -0.01}) == 'negative'"
      ],
      "metadata": {
        "id": "9Z6Bd80GR3qP"
      },
      "execution_count": null,
      "outputs": []
    },
    {
      "cell_type": "code",
      "source": [
        "import nltk\n",
        "nltk.download('vader_lexicon')"
      ],
      "metadata": {
        "id": "P3Q5XvHVR3m5",
        "colab": {
          "base_uri": "https://localhost:8080/"
        },
        "outputId": "48076356-c39c-4edf-9f6b-1919f21dca54"
      },
      "execution_count": null,
      "outputs": [
        {
          "output_type": "stream",
          "name": "stderr",
          "text": [
            "[nltk_data] Downloading package vader_lexicon to /root/nltk_data...\n",
            "[nltk_data]   Package vader_lexicon is already up-to-date!\n"
          ]
        },
        {
          "output_type": "execute_result",
          "data": {
            "text/plain": [
              "True"
            ]
          },
          "metadata": {},
          "execution_count": 25
        }
      ]
    },
    {
      "cell_type": "code",
      "source": [
        "mytweets = []\n",
        "all_vader_output = []\n",
        "gold = []\n",
        "\n",
        "analyzer = SentimentIntensityAnalyzer()\n",
        "\n",
        "# settings (to change for different experiments)\n",
        "to_lemmatize = True\n",
        "pos = set()\n",
        "\n",
        "for tweet in tweets_sentiment:\n",
        "    the_tweet = tweet['text']\n",
        "    vader_output = analyzer.polarity_scores(the_tweet)\n",
        "    vader_label = vader_output_to_label(vader_output)# convert vader output to category\n",
        "\n",
        "    mytweets.append(the_tweet)\n",
        "    all_vader_output.append(vader_label)\n",
        "    gold.append(tweet['sentiment_score'])\n",
        "\n",
        "\n"
      ],
      "metadata": {
        "id": "68vugLpAR3js"
      },
      "execution_count": null,
      "outputs": []
    },
    {
      "cell_type": "code",
      "source": [
        "import matplotlib.pyplot as plt\n",
        "from collections import Counter\n",
        "\n",
        "# Count the number of occurrences for each sentiment label\n",
        "sentiment_counts = Counter(all_vader_output)\n",
        "\n",
        "# Sort the keys so the order is the same every time we run this\n",
        "sorted_keys = sorted(sentiment_counts.keys())\n",
        "\n",
        "# Colors for the bars\n",
        "colors = {'positive': 'green', 'neutral': 'blue', 'negative': 'red'}\n",
        "\n",
        "# Plotting the bar graph\n",
        "plt.bar(sorted_keys, [sentiment_counts[k] for k in sorted_keys], color=[colors[k] for k in sorted_keys])\n",
        "plt.title('Sentiment Distribution in Training Set with Vader')\n",
        "plt.xlabel('Sentiment')\n",
        "plt.ylabel('Number of Tweets')\n",
        "plt.xticks(rotation=0)  # Keep the sentiment labels horizontal for clarity\n",
        "plt.show()\n",
        "\n",
        "\n"
      ],
      "metadata": {
        "id": "44aWTjrjR3gk",
        "colab": {
          "base_uri": "https://localhost:8080/",
          "height": 472
        },
        "outputId": "686a4fb5-51d4-4a15-9e77-023465c3a575"
      },
      "execution_count": null,
      "outputs": [
        {
          "output_type": "display_data",
          "data": {
            "text/plain": [
              "<Figure size 640x480 with 1 Axes>"
            ],
            "image/png": "[encoded data removed]"
          },
          "metadata": {}
        }
      ]
    },
    {
      "cell_type": "markdown",
      "source": [
        "### Sentiment Analysis on Test set (provided) using our data sentiment labels for prediction"
      ],
      "metadata": {
        "id": "8xMxm3HiImDZ"
      }
    },
    {
      "cell_type": "code",
      "source": [
        "import pandas as pd\n",
        "from sklearn.model_selection import train_test_split\n",
        "from sklearn.feature_extraction.text import TfidfVectorizer\n",
        "from sklearn.naive_bayes import MultinomialNB\n",
        "from sklearn.metrics import classification_report\n",
        "from sklearn.pipeline import Pipeline\n",
        "\n",
        "# Load your training data\n",
        "df_test = pd.read_csv('sentiment-topic-test.tsv', delimiter='\\t')\n",
        "\n",
        "# Create a machine learning pipeline\n",
        "pipeline = Pipeline([\n",
        "    ('tfidf', TfidfVectorizer(stop_words='english')),\n",
        "    ('classifier', MultinomialNB()),\n",
        "])\n",
        "\n",
        "\n",
        "# Train the model\n",
        "pipeline.fit(mytweets, all_vader_output)\n",
        "\n",
        "X_test = df_test['text']  # Update with your actual text column name\n",
        "\n",
        "# Predict the sentiment for the new test data\n",
        "df_test['predicted_sentiment'] = pipeline.predict(X_test)\n",
        "\n",
        "# Optionally, display the classification report\n",
        "print(classification_report(df_test['sentiment'], df_test['predicted_sentiment'], target_names=['negative', 'neutral', 'positive']))\n",
        "\n",
        "# Save the predictions to a new CSV file\n",
        "df_test.to_csv('predicted_sentiment.csv', index=False)"
      ],
      "metadata": {
        "id": "gLxhFoE4R3c0",
        "colab": {
          "base_uri": "https://localhost:8080/"
        },
        "outputId": "235caa33-84b3-4938-8d61-eb84600669d7"
      },
      "execution_count": null,
      "outputs": [
        {
          "output_type": "stream",
          "name": "stdout",
          "text": [
            "              precision    recall  f1-score   support\n",
            "\n",
            "    negative       0.25      0.25      0.25         4\n",
            "     neutral       0.00      0.00      0.00         3\n",
            "    positive       0.33      0.67      0.44         3\n",
            "\n",
            "    accuracy                           0.30        10\n",
            "   macro avg       0.19      0.31      0.23        10\n",
            "weighted avg       0.20      0.30      0.23        10\n",
            "\n"
          ]
        },
        {
          "output_type": "stream",
          "name": "stderr",
          "text": [
            "/usr/local/lib/python3.10/dist-packages/sklearn/metrics/_classification.py:1344: UndefinedMetricWarning: Precision and F-score are ill-defined and being set to 0.0 in labels with no predicted samples. Use `zero_division` parameter to control this behavior.\n",
            "  _warn_prf(average, modifier, msg_start, len(result))\n",
            "/usr/local/lib/python3.10/dist-packages/sklearn/metrics/_classification.py:1344: UndefinedMetricWarning: Precision and F-score are ill-defined and being set to 0.0 in labels with no predicted samples. Use `zero_division` parameter to control this behavior.\n",
            "  _warn_prf(average, modifier, msg_start, len(result))\n",
            "/usr/local/lib/python3.10/dist-packages/sklearn/metrics/_classification.py:1344: UndefinedMetricWarning: Precision and F-score are ill-defined and being set to 0.0 in labels with no predicted samples. Use `zero_division` parameter to control this behavior.\n",
            "  _warn_prf(average, modifier, msg_start, len(result))\n"
          ]
        }
      ]
    },
    {
      "cell_type": "code",
      "source": [
        "# Plot the bar graph for predicted sentiment distribution\n",
        "predicted_sentiment_counts = df_test['predicted_sentiment'].value_counts()\n",
        "predicted_sentiment_counts = predicted_sentiment_counts.reindex(['positive', 'neutral', 'negative'])\n",
        "predicted_sentiment_counts.plot(kind='bar', color=['green', 'gray', 'red'])\n",
        "plt.title('Sentiment Distribution on Test Set Using Our Dataset as Training Set')\n",
        "plt.xlabel('Sentiment')\n",
        "plt.ylabel('Number of Tweets')\n",
        "plt.show()"
      ],
      "metadata": {
        "colab": {
          "base_uri": "https://localhost:8080/",
          "height": 519
        },
        "id": "ZTzr1JgBdV-G",
        "outputId": "67a101a6-cdad-4090-c910-4af821dadf11"
      },
      "execution_count": null,
      "outputs": [
        {
          "output_type": "display_data",
          "data": {
            "text/plain": [
              "<Figure size 640x480 with 1 Axes>"
            ],
            "image/png": "[encoded data removed]"
          },
          "metadata": {}
        }
      ]
    },
    {
      "cell_type": "markdown",
      "source": [
        "### TextBlob"
      ],
      "metadata": {
        "id": "H8JLaMWD5IFW"
      }
    },
    {
      "cell_type": "code",
      "source": [
        "from textblob import TextBlob\n",
        "import pandas as pd\n",
        "\n",
        "# Function to perform sentiment analysis using TextBlob\n",
        "def perform_sentiment_analysis(sentence):\n",
        "    # Determine the sentiment using TextBlob\n",
        "    sentiment_score = TextBlob(sentence).sentiment.polarity\n",
        "    sentiment = \"positive\" if sentiment_score > 0 else \"negative\" if sentiment_score < 0 else \"neutral\"\n",
        "    return sentiment\n",
        "\n",
        "# Load your CSV data\n",
        "df = pd.read_csv('meghan_tweets.csv')\n",
        "\n",
        "# Assuming the text to analyze is in a column named 'text'\n",
        "# Apply the sentiment analysis function to the 'text' column\n",
        "df['sentiment'] = df['Tweet'].apply(perform_sentiment_analysis)\n",
        "\n",
        "# This DataFrame now includes the sentiment analysis\n",
        "# Create a new variable to store the DataFrame with the sentiment column\n",
        "df_with_sentiment = df\n",
        "\n",
        "# use df_with_sentiment for further processing or analysis\n",
        "# save the DataFrame with the new 'sentiment' column to a CSV file\n",
        "df_with_sentiment.to_csv('meghan_tweets_with_sentiment.csv', index=False)\n",
        "\n",
        "\n",
        "import matplotlib.pyplot as plt\n",
        "\n",
        "sentiment_counts = df_with_sentiment['sentiment'].value_counts()\n",
        "\n",
        "# Sort the index to maintain the order of sentiment types if needed\n",
        "sentiment_counts = sentiment_counts.reindex([\"positive\", \"neutral\", \"negative\"])\n",
        "\n",
        "# Create a bar plot, with colors specified for each sentiment type\n",
        "colors = ['green', 'gray', 'red']  # Example colors for positive, neutral, and negative\n",
        "sentiment_counts.plot(kind='bar', color=colors)\n",
        "\n",
        "# Set the title and labels\n",
        "plt.title('Sentiment Distribution in our dataset with TextBlob')\n",
        "plt.xlabel('Sentiment')\n",
        "plt.ylabel('Number of Tweets')\n",
        "\n",
        "# Show the plot\n",
        "plt.show()\n"
      ],
      "metadata": {
        "colab": {
          "base_uri": "https://localhost:8080/",
          "height": 519
        },
        "id": "q3UHR6xe5LEf",
        "outputId": "f67a4475-3067-417a-e350-4626d9d521ff"
      },
      "execution_count": null,
      "outputs": [
        {
          "output_type": "display_data",
          "data": {
            "text/plain": [
              "<Figure size 640x480 with 1 Axes>"
            ],
            "image/png": "[encoded data removed]"
          },
          "metadata": {}
        }
      ]
    },
    {
      "cell_type": "markdown",
      "source": [
        "### Test Set"
      ],
      "metadata": {
        "id": "gWw0avBQ7uNw"
      }
    },
    {
      "cell_type": "code",
      "source": [
        "import pandas as pd\n",
        "from sklearn.svm import SVC\n",
        "from sklearn.feature_extraction.text import TfidfVectorizer\n",
        "from sklearn.metrics import classification_report\n",
        "import matplotlib.pyplot as plt\n",
        "\n",
        "# Load your training data\n",
        "train_df = pd.read_csv('meghan_tweets_with_sentiment.csv')\n",
        "\n",
        "# Sample a fraction of the training data, for example, 10%\n",
        "train_df_sampled = train_df.sample(frac=0.1, random_state=42)\n",
        "\n",
        "X_train = train_df_sampled['Tweet']\n",
        "y_train = train_df_sampled['sentiment']\n",
        "\n",
        "# Vectorize the text using TF-IDF\n",
        "vectorizer = TfidfVectorizer()\n",
        "X_train_tfidf = vectorizer.fit_transform(X_train)\n",
        "\n",
        "# Initialize and train the SVM classifier\n",
        "svm_classifier = SVC(kernel='linear')\n",
        "svm_classifier.fit(X_train_tfidf, y_train)\n",
        "\n",
        "# Prepare the test set\n",
        "test_df = pd.read_csv('sentiment-topic-test.tsv', delimiter='\\t')\n",
        "\n",
        "X_test = test_df['text']\n",
        "X_test_tfidf = vectorizer.transform(X_test)\n",
        "\n",
        "# Predict sentiment on the test set\n",
        "test_df['predicted_sentiment'] = svm_classifier.predict(X_test_tfidf)\n",
        "\n",
        "# Plot the bar graph for predicted sentiment distribution\n",
        "predicted_sentiment_counts = test_df['predicted_sentiment'].value_counts()\n",
        "predicted_sentiment_counts.plot(kind='bar', color=['green', 'gray', 'red'])\n",
        "plt.title('Distribution of Predicted Sentiment of Test Set with our dataset as Training Data')\n",
        "plt.xlabel('Sentiment')\n",
        "plt.ylabel('Frequency')\n",
        "plt.show()\n"
      ],
      "metadata": {
        "colab": {
          "base_uri": "https://localhost:8080/",
          "height": 519
        },
        "id": "QtiWfW4I7w-d",
        "outputId": "fb55b392-61f9-48d5-ee4c-a2851c8d4203"
      },
      "execution_count": null,
      "outputs": [
        {
          "output_type": "display_data",
          "data": {
            "text/plain": [
              "<Figure size 640x480 with 1 Axes>"
            ],
            "image/png": "[encoded data removed]"
          },
          "metadata": {}
        }
      ]
    },
    {
      "cell_type": "markdown",
      "source": [],
      "metadata": {
        "id": "uPbDRKFiZqpQ"
      }
    },
    {
      "cell_type": "code",
      "source": [
        "# Since we have true labels in our test set, we can calculate the classification report\n",
        "true_labels = test_df['sentiment']\n",
        "print(classification_report(true_labels, test_df['predicted_sentiment']))"
      ],
      "metadata": {
        "colab": {
          "base_uri": "https://localhost:8080/"
        },
        "id": "m94QeJ79ZVM5",
        "outputId": "bce1c7d8-12cc-4b1b-b665-b9093ac84a78"
      },
      "execution_count": null,
      "outputs": [
        {
          "output_type": "stream",
          "name": "stdout",
          "text": [
            "              precision    recall  f1-score   support\n",
            "\n",
            "    negative       1.00      0.25      0.40         4\n",
            "     neutral       0.50      0.67      0.57         3\n",
            "    positive       0.40      0.67      0.50         3\n",
            "\n",
            "    accuracy                           0.50        10\n",
            "   macro avg       0.63      0.53      0.49        10\n",
            "weighted avg       0.67      0.50      0.48        10\n",
            "\n"
          ]
        }
      ]
    },
    {
      "cell_type": "markdown",
      "metadata": {
        "id": "yYynTCm3XYM3"
      },
      "source": [
        "# TOPIC CLASSIFICATION"
      ]
    },
    {
      "cell_type": "markdown",
      "source": [
        "### LDA"
      ],
      "metadata": {
        "id": "2Xuw8ArwTfUl"
      }
    },
    {
      "cell_type": "code",
      "source": [
        "import pandas as pd\n",
        "import nltk\n",
        "from gensim.models import LdaModel\n",
        "from gensim.corpora import Dictionary\n",
        "from nltk.corpus import stopwords\n",
        "from nltk.tokenize import word_tokenize\n",
        "from nltk.tag import pos_tag\n",
        "from nltk.chunk import ne_chunk\n",
        "from nltk.chunk import tree2conlltags\n",
        "from sklearn.model_selection import train_test_split\n",
        "nltk.download('all')"
      ],
      "metadata": {
        "id": "sF84tr-rUCoL",
        "colab": {
          "base_uri": "https://localhost:8080/"
        },
        "outputId": "c64f2153-44ff-4780-cec9-bd4c21593927"
      },
      "execution_count": null,
      "outputs": [
        {
          "output_type": "stream",
          "name": "stderr",
          "text": [
            "[nltk_data] Downloading collection 'all'\n",
            "[nltk_data]    | \n",
            "[nltk_data]    | Downloading package abc to /root/nltk_data...\n",
            "[nltk_data]    |   Package abc is already up-to-date!\n",
            "[nltk_data]    | Downloading package alpino to /root/nltk_data...\n",
            "[nltk_data]    |   Package alpino is already up-to-date!\n",
            "[nltk_data]    | Downloading package averaged_perceptron_tagger to\n",
            "[nltk_data]    |     /root/nltk_data...\n",
            "[nltk_data]    |   Package averaged_perceptron_tagger is already up-\n",
            "[nltk_data]    |       to-date!\n",
            "[nltk_data]    | Downloading package averaged_perceptron_tagger_ru to\n",
            "[nltk_data]    |     /root/nltk_data...\n",
            "[nltk_data]    |   Package averaged_perceptron_tagger_ru is already\n",
            "[nltk_data]    |       up-to-date!\n",
            "[nltk_data]    | Downloading package basque_grammars to\n",
            "[nltk_data]    |     /root/nltk_data...\n",
            "[nltk_data]    |   Package basque_grammars is already up-to-date!\n",
            "[nltk_data]    | Downloading package bcp47 to /root/nltk_data...\n",
            "[nltk_data]    |   Package bcp47 is already up-to-date!\n",
            "[nltk_data]    | Downloading package biocreative_ppi to\n",
            "[nltk_data]    |     /root/nltk_data...\n",
            "[nltk_data]    |   Package biocreative_ppi is already up-to-date!\n",
            "[nltk_data]    | Downloading package bllip_wsj_no_aux to\n",
            "[nltk_data]    |     /root/nltk_data...\n",
            "[nltk_data]    |   Package bllip_wsj_no_aux is already up-to-date!\n",
            "[nltk_data]    | Downloading package book_grammars to\n",
            "[nltk_data]    |     /root/nltk_data...\n",
            "[nltk_data]    |   Package book_grammars is already up-to-date!\n",
            "[nltk_data]    | Downloading package brown to /root/nltk_data...\n",
            "[nltk_data]    |   Package brown is already up-to-date!\n",
            "[nltk_data]    | Downloading package brown_tei to /root/nltk_data...\n",
            "[nltk_data]    |   Package brown_tei is already up-to-date!\n",
            "[nltk_data]    | Downloading package cess_cat to /root/nltk_data...\n",
            "[nltk_data]    |   Package cess_cat is already up-to-date!\n",
            "[nltk_data]    | Downloading package cess_esp to /root/nltk_data...\n",
            "[nltk_data]    |   Package cess_esp is already up-to-date!\n",
            "[nltk_data]    | Downloading package chat80 to /root/nltk_data...\n",
            "[nltk_data]    |   Package chat80 is already up-to-date!\n",
            "[nltk_data]    | Downloading package city_database to\n",
            "[nltk_data]    |     /root/nltk_data...\n",
            "[nltk_data]    |   Package city_database is already up-to-date!\n",
            "[nltk_data]    | Downloading package cmudict to /root/nltk_data...\n",
            "[nltk_data]    |   Package cmudict is already up-to-date!\n",
            "[nltk_data]    | Downloading package comparative_sentences to\n",
            "[nltk_data]    |     /root/nltk_data...\n",
            "[nltk_data]    |   Package comparative_sentences is already up-to-\n",
            "[nltk_data]    |       date!\n",
            "[nltk_data]    | Downloading package comtrans to /root/nltk_data...\n",
            "[nltk_data]    |   Package comtrans is already up-to-date!\n",
            "[nltk_data]    | Downloading package conll2000 to /root/nltk_data...\n",
            "[nltk_data]    |   Package conll2000 is already up-to-date!\n",
            "[nltk_data]    | Downloading package conll2002 to /root/nltk_data...\n",
            "[nltk_data]    |   Package conll2002 is already up-to-date!\n",
            "[nltk_data]    | Downloading package conll2007 to /root/nltk_data...\n",
            "[nltk_data]    |   Package conll2007 is already up-to-date!\n",
            "[nltk_data]    | Downloading package crubadan to /root/nltk_data...\n",
            "[nltk_data]    |   Package crubadan is already up-to-date!\n",
            "[nltk_data]    | Downloading package dependency_treebank to\n",
            "[nltk_data]    |     /root/nltk_data...\n",
            "[nltk_data]    |   Package dependency_treebank is already up-to-date!\n",
            "[nltk_data]    | Downloading package dolch to /root/nltk_data...\n",
            "[nltk_data]    |   Package dolch is already up-to-date!\n",
            "[nltk_data]    | Downloading package europarl_raw to\n",
            "[nltk_data]    |     /root/nltk_data...\n",
            "[nltk_data]    |   Package europarl_raw is already up-to-date!\n",
            "[nltk_data]    | Downloading package extended_omw to\n",
            "[nltk_data]    |     /root/nltk_data...\n",
            "[nltk_data]    |   Package extended_omw is already up-to-date!\n",
            "[nltk_data]    | Downloading package floresta to /root/nltk_data...\n",
            "[nltk_data]    |   Package floresta is already up-to-date!\n",
            "[nltk_data]    | Downloading package framenet_v15 to\n",
            "[nltk_data]    |     /root/nltk_data...\n",
            "[nltk_data]    |   Package framenet_v15 is already up-to-date!\n",
            "[nltk_data]    | Downloading package framenet_v17 to\n",
            "[nltk_data]    |     /root/nltk_data...\n",
            "[nltk_data]    |   Package framenet_v17 is already up-to-date!\n",
            "[nltk_data]    | Downloading package gazetteers to /root/nltk_data...\n",
            "[nltk_data]    |   Package gazetteers is already up-to-date!\n",
            "[nltk_data]    | Downloading package genesis to /root/nltk_data...\n",
            "[nltk_data]    |   Package genesis is already up-to-date!\n",
            "[nltk_data]    | Downloading package gutenberg to /root/nltk_data...\n",
            "[nltk_data]    |   Package gutenberg is already up-to-date!\n",
            "[nltk_data]    | Downloading package ieer to /root/nltk_data...\n",
            "[nltk_data]    |   Package ieer is already up-to-date!\n",
            "[nltk_data]    | Downloading package inaugural to /root/nltk_data...\n",
            "[nltk_data]    |   Package inaugural is already up-to-date!\n",
            "[nltk_data]    | Downloading package indian to /root/nltk_data...\n",
            "[nltk_data]    |   Package indian is already up-to-date!\n",
            "[nltk_data]    | Downloading package jeita to /root/nltk_data...\n",
            "[nltk_data]    |   Package jeita is already up-to-date!\n",
            "[nltk_data]    | Downloading package kimmo to /root/nltk_data...\n",
            "[nltk_data]    |   Package kimmo is already up-to-date!\n",
            "[nltk_data]    | Downloading package knbc to /root/nltk_data...\n",
            "[nltk_data]    |   Package knbc is already up-to-date!\n",
            "[nltk_data]    | Downloading package large_grammars to\n",
            "[nltk_data]    |     /root/nltk_data...\n",
            "[nltk_data]    |   Package large_grammars is already up-to-date!\n",
            "[nltk_data]    | Downloading package lin_thesaurus to\n",
            "[nltk_data]    |     /root/nltk_data...\n",
            "[nltk_data]    |   Package lin_thesaurus is already up-to-date!\n",
            "[nltk_data]    | Downloading package mac_morpho to /root/nltk_data...\n",
            "[nltk_data]    |   Package mac_morpho is already up-to-date!\n",
            "[nltk_data]    | Downloading package machado to /root/nltk_data...\n",
            "[nltk_data]    |   Package machado is already up-to-date!\n",
            "[nltk_data]    | Downloading package masc_tagged to /root/nltk_data...\n",
            "[nltk_data]    |   Package masc_tagged is already up-to-date!\n",
            "[nltk_data]    | Downloading package maxent_ne_chunker to\n",
            "[nltk_data]    |     /root/nltk_data...\n",
            "[nltk_data]    |   Package maxent_ne_chunker is already up-to-date!\n",
            "[nltk_data]    | Downloading package maxent_treebank_pos_tagger to\n",
            "[nltk_data]    |     /root/nltk_data...\n",
            "[nltk_data]    |   Package maxent_treebank_pos_tagger is already up-\n",
            "[nltk_data]    |       to-date!\n",
            "[nltk_data]    | Downloading package moses_sample to\n",
            "[nltk_data]    |     /root/nltk_data...\n",
            "[nltk_data]    |   Package moses_sample is already up-to-date!\n",
            "[nltk_data]    | Downloading package movie_reviews to\n",
            "[nltk_data]    |     /root/nltk_data...\n",
            "[nltk_data]    |   Package movie_reviews is already up-to-date!\n",
            "[nltk_data]    | Downloading package mte_teip5 to /root/nltk_data...\n",
            "[nltk_data]    |   Package mte_teip5 is already up-to-date!\n",
            "[nltk_data]    | Downloading package mwa_ppdb to /root/nltk_data...\n",
            "[nltk_data]    |   Package mwa_ppdb is already up-to-date!\n",
            "[nltk_data]    | Downloading package names to /root/nltk_data...\n",
            "[nltk_data]    |   Package names is already up-to-date!\n",
            "[nltk_data]    | Downloading package nombank.1.0 to /root/nltk_data...\n",
            "[nltk_data]    |   Package nombank.1.0 is already up-to-date!\n",
            "[nltk_data]    | Downloading package nonbreaking_prefixes to\n",
            "[nltk_data]    |     /root/nltk_data...\n",
            "[nltk_data]    |   Package nonbreaking_prefixes is already up-to-date!\n",
            "[nltk_data]    | Downloading package nps_chat to /root/nltk_data...\n",
            "[nltk_data]    |   Package nps_chat is already up-to-date!\n",
            "[nltk_data]    | Downloading package omw to /root/nltk_data...\n",
            "[nltk_data]    |   Package omw is already up-to-date!\n",
            "[nltk_data]    | Downloading package omw-1.4 to /root/nltk_data...\n",
            "[nltk_data]    |   Package omw-1.4 is already up-to-date!\n",
            "[nltk_data]    | Downloading package opinion_lexicon to\n",
            "[nltk_data]    |     /root/nltk_data...\n",
            "[nltk_data]    |   Package opinion_lexicon is already up-to-date!\n",
            "[nltk_data]    | Downloading package panlex_swadesh to\n",
            "[nltk_data]    |     /root/nltk_data...\n",
            "[nltk_data]    |   Package panlex_swadesh is already up-to-date!\n",
            "[nltk_data]    | Downloading package paradigms to /root/nltk_data...\n",
            "[nltk_data]    |   Package paradigms is already up-to-date!\n",
            "[nltk_data]    | Downloading package pe08 to /root/nltk_data...\n",
            "[nltk_data]    |   Package pe08 is already up-to-date!\n",
            "[nltk_data]    | Downloading package perluniprops to\n",
            "[nltk_data]    |     /root/nltk_data...\n",
            "[nltk_data]    |   Package perluniprops is already up-to-date!\n",
            "[nltk_data]    | Downloading package pil to /root/nltk_data...\n",
            "[nltk_data]    |   Package pil is already up-to-date!\n",
            "[nltk_data]    | Downloading package pl196x to /root/nltk_data...\n",
            "[nltk_data]    |   Package pl196x is already up-to-date!\n",
            "[nltk_data]    | Downloading package porter_test to /root/nltk_data...\n",
            "[nltk_data]    |   Package porter_test is already up-to-date!\n",
            "[nltk_data]    | Downloading package ppattach to /root/nltk_data...\n",
            "[nltk_data]    |   Package ppattach is already up-to-date!\n",
            "[nltk_data]    | Downloading package problem_reports to\n",
            "[nltk_data]    |     /root/nltk_data...\n",
            "[nltk_data]    |   Package problem_reports is already up-to-date!\n",
            "[nltk_data]    | Downloading package product_reviews_1 to\n",
            "[nltk_data]    |     /root/nltk_data...\n",
            "[nltk_data]    |   Package product_reviews_1 is already up-to-date!\n",
            "[nltk_data]    | Downloading package product_reviews_2 to\n",
            "[nltk_data]    |     /root/nltk_data...\n",
            "[nltk_data]    |   Package product_reviews_2 is already up-to-date!\n",
            "[nltk_data]    | Downloading package propbank to /root/nltk_data...\n",
            "[nltk_data]    |   Package propbank is already up-to-date!\n",
            "[nltk_data]    | Downloading package pros_cons to /root/nltk_data...\n",
            "[nltk_data]    |   Package pros_cons is already up-to-date!\n",
            "[nltk_data]    | Downloading package ptb to /root/nltk_data...\n",
            "[nltk_data]    |   Package ptb is already up-to-date!\n",
            "[nltk_data]    | Downloading package punkt to /root/nltk_data...\n",
            "[nltk_data]    |   Package punkt is already up-to-date!\n",
            "[nltk_data]    | Downloading package qc to /root/nltk_data...\n",
            "[nltk_data]    |   Package qc is already up-to-date!\n",
            "[nltk_data]    | Downloading package reuters to /root/nltk_data...\n",
            "[nltk_data]    |   Package reuters is already up-to-date!\n",
            "[nltk_data]    | Downloading package rslp to /root/nltk_data...\n",
            "[nltk_data]    |   Package rslp is already up-to-date!\n",
            "[nltk_data]    | Downloading package rte to /root/nltk_data...\n",
            "[nltk_data]    |   Package rte is already up-to-date!\n",
            "[nltk_data]    | Downloading package sample_grammars to\n",
            "[nltk_data]    |     /root/nltk_data...\n",
            "[nltk_data]    |   Package sample_grammars is already up-to-date!\n",
            "[nltk_data]    | Downloading package semcor to /root/nltk_data...\n",
            "[nltk_data]    |   Package semcor is already up-to-date!\n",
            "[nltk_data]    | Downloading package senseval to /root/nltk_data...\n",
            "[nltk_data]    |   Package senseval is already up-to-date!\n",
            "[nltk_data]    | Downloading package sentence_polarity to\n",
            "[nltk_data]    |     /root/nltk_data...\n",
            "[nltk_data]    |   Package sentence_polarity is already up-to-date!\n",
            "[nltk_data]    | Downloading package sentiwordnet to\n",
            "[nltk_data]    |     /root/nltk_data...\n",
            "[nltk_data]    |   Package sentiwordnet is already up-to-date!\n",
            "[nltk_data]    | Downloading package shakespeare to /root/nltk_data...\n",
            "[nltk_data]    |   Package shakespeare is already up-to-date!\n",
            "[nltk_data]    | Downloading package sinica_treebank to\n",
            "[nltk_data]    |     /root/nltk_data...\n",
            "[nltk_data]    |   Package sinica_treebank is already up-to-date!\n",
            "[nltk_data]    | Downloading package smultron to /root/nltk_data...\n",
            "[nltk_data]    |   Package smultron is already up-to-date!\n",
            "[nltk_data]    | Downloading package snowball_data to\n",
            "[nltk_data]    |     /root/nltk_data...\n",
            "[nltk_data]    |   Package snowball_data is already up-to-date!\n",
            "[nltk_data]    | Downloading package spanish_grammars to\n",
            "[nltk_data]    |     /root/nltk_data...\n",
            "[nltk_data]    |   Package spanish_grammars is already up-to-date!\n",
            "[nltk_data]    | Downloading package state_union to /root/nltk_data...\n",
            "[nltk_data]    |   Package state_union is already up-to-date!\n",
            "[nltk_data]    | Downloading package stopwords to /root/nltk_data...\n",
            "[nltk_data]    |   Package stopwords is already up-to-date!\n",
            "[nltk_data]    | Downloading package subjectivity to\n",
            "[nltk_data]    |     /root/nltk_data...\n",
            "[nltk_data]    |   Package subjectivity is already up-to-date!\n",
            "[nltk_data]    | Downloading package swadesh to /root/nltk_data...\n",
            "[nltk_data]    |   Package swadesh is already up-to-date!\n",
            "[nltk_data]    | Downloading package switchboard to /root/nltk_data...\n",
            "[nltk_data]    |   Package switchboard is already up-to-date!\n",
            "[nltk_data]    | Downloading package tagsets to /root/nltk_data...\n",
            "[nltk_data]    |   Package tagsets is already up-to-date!\n",
            "[nltk_data]    | Downloading package timit to /root/nltk_data...\n",
            "[nltk_data]    |   Package timit is already up-to-date!\n",
            "[nltk_data]    | Downloading package toolbox to /root/nltk_data...\n",
            "[nltk_data]    |   Package toolbox is already up-to-date!\n",
            "[nltk_data]    | Downloading package treebank to /root/nltk_data...\n",
            "[nltk_data]    |   Package treebank is already up-to-date!\n",
            "[nltk_data]    | Downloading package twitter_samples to\n",
            "[nltk_data]    |     /root/nltk_data...\n",
            "[nltk_data]    |   Package twitter_samples is already up-to-date!\n",
            "[nltk_data]    | Downloading package udhr to /root/nltk_data...\n",
            "[nltk_data]    |   Package udhr is already up-to-date!\n",
            "[nltk_data]    | Downloading package udhr2 to /root/nltk_data...\n",
            "[nltk_data]    |   Package udhr2 is already up-to-date!\n",
            "[nltk_data]    | Downloading package unicode_samples to\n",
            "[nltk_data]    |     /root/nltk_data...\n",
            "[nltk_data]    |   Package unicode_samples is already up-to-date!\n",
            "[nltk_data]    | Downloading package universal_tagset to\n",
            "[nltk_data]    |     /root/nltk_data...\n",
            "[nltk_data]    |   Package universal_tagset is already up-to-date!\n",
            "[nltk_data]    | Downloading package universal_treebanks_v20 to\n",
            "[nltk_data]    |     /root/nltk_data...\n",
            "[nltk_data]    |   Package universal_treebanks_v20 is already up-to-\n",
            "[nltk_data]    |       date!\n",
            "[nltk_data]    | Downloading package vader_lexicon to\n",
            "[nltk_data]    |     /root/nltk_data...\n",
            "[nltk_data]    |   Package vader_lexicon is already up-to-date!\n",
            "[nltk_data]    | Downloading package verbnet to /root/nltk_data...\n",
            "[nltk_data]    |   Package verbnet is already up-to-date!\n",
            "[nltk_data]    | Downloading package verbnet3 to /root/nltk_data...\n",
            "[nltk_data]    |   Package verbnet3 is already up-to-date!\n",
            "[nltk_data]    | Downloading package webtext to /root/nltk_data...\n",
            "[nltk_data]    |   Package webtext is already up-to-date!\n",
            "[nltk_data]    | Downloading package wmt15_eval to /root/nltk_data...\n",
            "[nltk_data]    |   Package wmt15_eval is already up-to-date!\n",
            "[nltk_data]    | Downloading package word2vec_sample to\n",
            "[nltk_data]    |     /root/nltk_data...\n",
            "[nltk_data]    |   Package word2vec_sample is already up-to-date!\n",
            "[nltk_data]    | Downloading package wordnet to /root/nltk_data...\n",
            "[nltk_data]    |   Package wordnet is already up-to-date!\n",
            "[nltk_data]    | Downloading package wordnet2021 to /root/nltk_data...\n",
            "[nltk_data]    |   Package wordnet2021 is already up-to-date!\n",
            "[nltk_data]    | Downloading package wordnet2022 to /root/nltk_data...\n",
            "[nltk_data]    |   Package wordnet2022 is already up-to-date!\n",
            "[nltk_data]    | Downloading package wordnet31 to /root/nltk_data...\n",
            "[nltk_data]    |   Package wordnet31 is already up-to-date!\n",
            "[nltk_data]    | Downloading package wordnet_ic to /root/nltk_data...\n",
            "[nltk_data]    |   Package wordnet_ic is already up-to-date!\n",
            "[nltk_data]    | Downloading package words to /root/nltk_data...\n",
            "[nltk_data]    |   Package words is already up-to-date!\n",
            "[nltk_data]    | Downloading package ycoe to /root/nltk_data...\n",
            "[nltk_data]    |   Package ycoe is already up-to-date!\n",
            "[nltk_data]    | \n",
            "[nltk_data]  Done downloading collection all\n"
          ]
        },
        {
          "output_type": "execute_result",
          "data": {
            "text/plain": [
              "True"
            ]
          },
          "metadata": {},
          "execution_count": 5
        }
      ]
    },
    {
      "cell_type": "code",
      "source": [
        "#lda model on tweets data\n",
        "\n",
        "# Load data from CSV\n",
        "df = pd.read_csv(\"/meghan_tweets.csv\")\n",
        "\n",
        "# Preprocess the tweets\n",
        "stop_words = set(stopwords.words('english'))\n",
        "\n",
        "def preprocess_text(text):\n",
        "    tokens = word_tokenize(text.lower())\n",
        "    tokens = [token for token in tokens if token.isalpha() and token not in stop_words]\n",
        "    return tokens\n",
        "\n",
        "# Apply preprocessing to tweets\n",
        "df['Processed_Tweets'] = df['Tweet'].apply(preprocess_text)\n",
        "\n",
        "# Create a dictionary representation of the documents\n",
        "dictionary = Dictionary(df['Processed_Tweets'])\n",
        "\n",
        "# Filter out tokens that appear in less than 5 documents or more than 50% of the documents\n",
        "#dictionary.filter_extremes(no_below=5, no_above=0.5)\n",
        "\n",
        "# Create a document-term matrix\n",
        "corpus = [dictionary.doc2bow(doc) for doc in df['Processed_Tweets']]\n",
        "\n",
        "# Train the LDA model\n",
        "num_topics = 3  # Adjust the number of topics as needed\n",
        "lda_model = LdaModel(corpus=corpus, id2word=dictionary, num_topics=num_topics, passes=10)\n",
        "\n",
        "# Initialize lists for topics and probabilities\n",
        "topics = []\n",
        "probabilities = []\n",
        "threshold = 0.5  # Adjust the threshold as needed\n",
        "\n",
        "# Iterate over the DataFrame\n",
        "for index, row in df.iterrows():\n",
        "    processed_tweet = row['Processed_Tweets']\n",
        "    if not processed_tweet:\n",
        "        topics.append(None)\n",
        "        probabilities.append(None)\n",
        "        #print(f\"Skipping row {index} due to empty processed tweet\")\n",
        "        continue\n",
        "\n",
        "    tweet_bow = dictionary.doc2bow(processed_tweet)\n",
        "    if not tweet_bow:\n",
        "        topics.append(None)\n",
        "        probabilities.append(None)\n",
        "        #print(f\"Skipping row {index} due to invalid bag-of-words representation\")\n",
        "        continue\n",
        "\n",
        "    # Extract the dominant topic and its probability\n",
        "    topic_distribution = lda_model.get_document_topics(tweet_bow)\n",
        "    dominant_topic, prob = max(topic_distribution, key=lambda x: x[1])\n",
        "    if prob >= threshold:\n",
        "        topics.append(dominant_topic)\n",
        "        probabilities.append(prob)\n",
        "    else:\n",
        "        topics.append(None)\n",
        "        probabilities.append(None)\n",
        "\n",
        "# Assign topics and probabilities to DataFrame\n",
        "df['Topic'] = topics\n",
        "df['Topic_Probability'] = probabilities\n",
        "\n",
        "# Get the top words for each topic\n",
        "topic_words = lda_model.show_topics(num_topics=num_topics, num_words=1, formatted=False)\n",
        "\n",
        "# Define topic labels based on top words\n",
        "topic_labels = {i: ', '.join([word[0] for word in words]) for i, words in topic_words}\n",
        "\n",
        "# Print the tweets along with their corresponding topics and probabilities\n",
        "for index, row in df.head(30).iterrows():\n",
        "    if row['Topic'] != 'Unknown' and not pd.isnull(row['Topic_Probability']):\n",
        "        tweet_text = row['Tweet']\n",
        "        topic_label = topic_labels.get(row['Topic'], 'Unknown') if not pd.isnull(row['Topic']) else 'Unknown'\n",
        "        probability = f\"{row['Topic_Probability']:.4f}\" if not pd.isnull(row['Topic_Probability']) else 'N/A'\n",
        "        print(f\"Tweet: {tweet_text}\")\n",
        "        print(f\"Topic: {topic_label} (Probability: {probability})\")\n",
        "        print()"
      ],
      "metadata": {
        "colab": {
          "base_uri": "https://localhost:8080/"
        },
        "id": "FsZRV9ffXn-B",
        "outputId": "91c2c6d0-4aa8-4658-f5b0-d707d69a6dce"
      },
      "execution_count": null,
      "outputs": [
        {
          "output_type": "stream",
          "name": "stdout",
          "text": [
            "Tweet: Listen to my latest podcast episode, entitled \"AVIOT - S2 - Episode 21 - The case of Meghan Markle (Feat. Toya)\". ⚓… https://t.co/YxYBvdQljP\n",
            "Topic: meghanmarkle (Probability: 0.8669)\n",
            "\n",
            "Tweet: #MeghanMarkle is salty AF 'cause her #moonbump, 'Archie' didn't get a (racist) royal title.  So... since 'Archie' c… https://t.co/RXTgHayNkr\n",
            "Topic: https (Probability: 0.9331)\n",
            "\n",
            "Tweet: #meghanmarkle didn’t know anything about the BRF\n",
            "#meghanmarkleisaliarandabully #meghanmarklecansuckspotteddicks https://t.co/tHX8V9edXs\n",
            "Topic: https (Probability: 0.8937)\n",
            "\n",
            "Tweet: #RoyalFamily \n",
            "#MeghanandHarryonOprah \n",
            "#OprahMeghanHarry \n",
            "#MeghanMarkle \n",
            "#MeghanAndHarry \n",
            "\n",
            "A household in exile, whi… https://t.co/ENkoIP4FeA\n",
            "Topic: meghanmarkle (Probability: 0.6470)\n",
            "\n",
            "Tweet: @SHODesusAndMero @Showtime #Oprah pursue #DianaSpencer for interview &amp;Diana said No thanks.Diana was Smart.… https://t.co/oDcPmzBKOr\n",
            "Topic: meghanmarkle (Probability: 0.5389)\n",
            "\n",
            "Tweet: A while ago I showed this pic of a young Meghan to a few friends and asked them who they think it is. One of them s… https://t.co/kMnnVKAjFW\n",
            "Topic: https (Probability: 0.6233)\n",
            "\n",
            "Tweet: #PiersMorgan break #wind after #controversial #MeghanMarkle #rant https://t.co/AgkYIMCBpU\n",
            "Topic: meghanmarkle (Probability: 0.7290)\n",
            "\n",
            "Tweet: #OprahMeghanHarry \n",
            "#MeghanMarkle \n",
            "#MeghanAndHarry \n",
            "\n",
            "The outcome. https://t.co/iedpFS2XWi\n",
            "Topic: meghanmarkle (Probability: 0.8838)\n",
            "\n",
            "Tweet: @Beyonce @SandraRose @Oprah @OWNTV @tylerperry @iamcardib @RealCandaceO @solangeknowles @BLACKGIRLSROCK @SkyNews… https://t.co/dR2gLdJEGb\n",
            "Topic: meghanmarkle (Probability: 0.5588)\n",
            "\n",
            "Tweet: An English village has lost its idiot but I’ve found him on Fox (obvs), where he’s managed to find the worst argume… https://t.co/2ET1xju2ij\n",
            "Topic: https (Probability: 0.5477)\n",
            "\n",
            "Tweet: Do you think the Royal family are not racists?\n",
            "\n",
            "#OprahMeghanHarry #MeghanMarkle #PrinceHarry #AbolishTheMonarchy\n",
            "Topic: https (Probability: 0.5273)\n",
            "\n",
            "Tweet: #MeghanMarkle pens sweet letter to the students of Robert Clack School to celebrate #IWM\n",
            "https://t.co/fgqVXFnwst\n",
            "Topic: https (Probability: 0.5273)\n",
            "\n",
            "Tweet: @Grinchonicle16 @Lakesman5 @Frankie20101 The definition of woke is not the issue. The selective, hypocritical appli… https://t.co/mS0EY0HTzC\n",
            "Topic: https (Probability: 0.9019)\n",
            "\n",
            "Tweet: Love william  #princewilliam #MeghanMarkle #PrinceHarry #KateMiddleton #PrinceWilliam #HarryandMeghanonOprah… https://t.co/USpLe20jFN\n",
            "Topic: meghanmarkle (Probability: 0.7282)\n",
            "\n",
            "Tweet: If you actually fact check #MeghanMarkle, you can see that she’s not being fully truthful. But I guess the left (wh… https://t.co/9tnmREKA8s\n",
            "Topic: https (Probability: 0.9249)\n",
            "\n",
            "Tweet: I have seen these patterns over and over in the comments sections of every gosh darn news article about this topic… https://t.co/E6J3nO1RyB\n",
            "Topic: meghanmarkle (Probability: 0.8252)\n",
            "\n",
            "Tweet: I am so disappointed by folks who feel they get to police how victims get to communicate and educate about their experiences.\n",
            " #MeghanMarkle\n",
            "Topic: https (Probability: 0.9287)\n",
            "\n",
            "Tweet: Unlearning this as a nation is far from over, but it must be a public process for progress, and defensiveness delay… https://t.co/aV1c15baBL\n",
            "Topic: https (Probability: 0.7563)\n",
            "\n",
            "Tweet: ...when it comes to Columbus Day, confederate flags and statues, and colonialist historical interpretations are slo… https://t.co/wewBGzlTPq\n",
            "Topic: https (Probability: 0.8788)\n",
            "\n",
            "Tweet: The folks getting defensive on behalf of poorly behaved royalty sound very much like folks in the US. The whole “it… https://t.co/N8SIe2aiwA\n",
            "Topic: https (Probability: 0.5386)\n",
            "\n",
            "Tweet: I DO care about victim-blaming and #MentalIllness. I DO care about anti-racism, calling out #whitesupremacy, and un… https://t.co/fbEHyzvFlq\n",
            "Topic: https (Probability: 0.7738)\n",
            "\n",
            "Tweet: It is possible to like fancy people and things and also be patently and fervently #AntiRacist and a #MentalHealth ally. #MeghanMarkle\n",
            "Topic: https (Probability: 0.5454)\n",
            "\n",
            "Tweet: You forget #katemiddleton  #princewilliam #MeghanMarkle #PrinceHarry #KateMiddleton #PrinceWilliam… https://t.co/Iv6rShGGF2\n",
            "Topic: meghanmarkle (Probability: 0.7558)\n",
            "\n",
            "Tweet: Megan Markle keeping it 100 #princewilliam #RoyalFamily #MeghanMarkle #nftcollectors https://t.co/q82tIDIQv1\n",
            "Topic: meghanmarkle (Probability: 0.9136)\n",
            "\n",
            "Tweet: @sannetje_26 @TobyonTV Look at harry  #princewilliam #MeghanMarkle #PrinceHarry #KateMiddleton #PrinceWilliam… https://t.co/dNWggGOcOK\n",
            "Topic: meghanmarkle (Probability: 0.9069)\n",
            "\n"
          ]
        }
      ]
    },
    {
      "cell_type": "code",
      "source": [
        "#LDA model created using test data\n",
        "\n",
        "\n",
        "# Load data from CSV\n",
        "df = pd.read_csv(\"/sentiment-topic-test.tsv\", delimiter=\"\\t\")\n",
        "\n",
        "# Preprocess the tweets\n",
        "stop_words = set(stopwords.words('english'))\n",
        "\n",
        "def preprocess_text(text):\n",
        "    tokens = word_tokenize(text.lower())\n",
        "    tokens = [token for token in tokens if token.isalpha() and token not in stop_words]\n",
        "    return tokens\n",
        "\n",
        "# Check if there are documents available in the original DataFrame\n",
        "if len(df) == 0:\n",
        "    print(\"Error: No documents available in the DataFrame.\")\n",
        "else:\n",
        "    # Preprocess the tweets\n",
        "    df['Processed_Tweets'] = df['text'].apply(preprocess_text)\n",
        "\n",
        "    # Filter out empty documents\n",
        "    df = df[df['Processed_Tweets'].map(len) > 0]\n",
        "\n",
        "    # Check if there are documents available after preprocessing\n",
        "    if len(df) == 0:\n",
        "        print(\"Error: No valid documents available after preprocessing.\")\n",
        "    else:\n",
        "        # Create a dictionary representation of the documents\n",
        "        dictionary = Dictionary(df['Processed_Tweets'])\n",
        "\n",
        "        # Filter out tokens that appear in less than 5 documents or more than 50% of the documents\n",
        "        #dictionary.filter_extremes(no_below=5, no_above=0.5)\n",
        "\n",
        "        # Create a document-term matrix\n",
        "        corpus = [dictionary.doc2bow(doc) for doc in df['Processed_Tweets']]\n",
        "\n",
        "        # Train the LDA model\n",
        "        num_topics = 3  # Adjust the number of topics as needed\n",
        "        lda_model = LdaModel(corpus=corpus, id2word=dictionary, num_topics=num_topics, passes=10)\n",
        "\n",
        "        # Initialize lists for topics and probabilities\n",
        "        topics = []\n",
        "        probabilities = []\n",
        "        threshold = 0.5  # Adjust the threshold as needed\n",
        "\n",
        "        # Iterate over the DataFrame\n",
        "        for index, row in df.iterrows():\n",
        "            processed_tweet = row['Processed_Tweets']\n",
        "            if not processed_tweet:\n",
        "                topics.append(None)\n",
        "                probabilities.append(None)\n",
        "                #print(f\"Skipping row {index} due to empty processed tweet\")\n",
        "                continue\n",
        "\n",
        "            tweet_bow = dictionary.doc2bow(processed_tweet)\n",
        "            if not tweet_bow:\n",
        "                topics.append(None)\n",
        "                probabilities.append(None)\n",
        "                #print(f\"Skipping row {index} due to invalid bag-of-words representation\")\n",
        "                continue\n",
        "\n",
        "            # Extract the dominant topic and its probability\n",
        "            topic_distribution = lda_model.get_document_topics(tweet_bow)\n",
        "            dominant_topic, prob = max(topic_distribution, key=lambda x: x[1])\n",
        "            if prob >= threshold:\n",
        "                topics.append(dominant_topic)\n",
        "                probabilities.append(prob)\n",
        "            else:\n",
        "                topics.append(None)\n",
        "                probabilities.append(None)\n",
        "\n",
        "        # Assign topics and probabilities to DataFrame\n",
        "        df['Topic'] = topics\n",
        "        df['Topic_Probability'] = probabilities\n",
        "\n",
        "        # Get the top words for each topic\n",
        "        topic_words = lda_model.show_topics(num_topics=num_topics, num_words=1, formatted=False)\n",
        "\n",
        "        # Define topic labels based on top words\n",
        "        topic_labels = {i: ', '.join([word[0] for word in words]) for i, words in topic_words}\n",
        "\n",
        "        # Print the tweets along with their corresponding topics and probabilities\n",
        "        for index, row in df.head(10).iterrows():\n",
        "            if row['Topic'] != 'Unknown' and not pd.isnull(row['Topic_Probability']):\n",
        "                tweet_text = row['text']\n",
        "                topic_label = topic_labels.get(row['Topic'], 'Unknown') if not pd.isnull(row['Topic']) else 'Unknown'\n",
        "                probability = f\"{row['Topic_Probability']:.4f}\" if not pd.isnull(row['Topic_Probability']) else 'N/A'\n",
        "                print(f\"text: {tweet_text}\")\n",
        "                print(f\"Topic: {topic_label} (Probability: {probability})\")\n",
        "                print()"
      ],
      "metadata": {
        "colab": {
          "base_uri": "https://localhost:8080/"
        },
        "id": "U3bYi41kSLs8",
        "outputId": "6a88cb06-1c13-4d6c-b5d6-735c00399dd1"
      },
      "execution_count": null,
      "outputs": [
        {
          "output_type": "stream",
          "name": "stdout",
          "text": [
            "text: I wouldn't be caught dead watching the NFL if it weren't for Taylor Swift.\n",
            "Topic: ever (Probability: 0.9159)\n",
            "\n",
            "text: Chris O'Donnell stated that while filming for this movie, he felt like he was in a Toys ''R'' Us commercial.\n",
            "Topic: movie (Probability: 0.9389)\n",
            "\n",
            "text: The whole game was a rollercoaster ride, but Los Angeles Lakers ultimately persevered and won!\n",
            "Topic: movie (Probability: 0.9328)\n",
            "\n",
            "text: Zendaya slayed in Dune 2, as she does in all her movies.\n",
            "Topic: started (Probability: 0.8660)\n",
            "\n",
            "text: While my favorite player was playing this match and started off strongggg, it went downhill after Messi's injyry midgame.\n",
            "Topic: started (Probability: 0.9442)\n",
            "\n",
            "text: My uncle's brother's neighbor's cat's veterinarian David reads the communist manifesto in his spare time.\n",
            "Topic: ever (Probability: 0.9439)\n",
            "\n",
            "text: He said that The Great Gatsby is the best novell ever, and I was about to throw hands.\n",
            "Topic: ever (Probability: 0.9253)\n",
            "\n",
            "text: I could not look away from this train wrck of a movie, on February 14th of all days.\n",
            "Topic: movie (Probability: 0.9254)\n",
            "\n",
            "text: The film Everything Everywhere All At Once follows Evelyn Wang, a woman drowning under the stress of her family's failing laundromat.\n",
            "Topic: ever (Probability: 0.9483)\n",
            "\n",
            "text: I just finished reading pride and prejudice which had me HOOOKED from the beginning.\n",
            "Topic: movie (Probability: 0.9040)\n",
            "\n"
          ]
        }
      ]
    },
    {
      "cell_type": "code",
      "source": [
        "# Save the trained LDA model\n",
        "lda_model.save(\"lda_model\")"
      ],
      "metadata": {
        "id": "kr53L54cPyKU"
      },
      "execution_count": null,
      "outputs": []
    },
    {
      "cell_type": "code",
      "source": [
        "#saved trained LDA model tested on the test data\n",
        "\n",
        "from gensim.models import LdaModel\n",
        "\n",
        "# Load the saved LDA model\n",
        "lda_model = LdaModel.load(\"lda_model\")\n",
        "\n",
        "# Load data from CSV\n",
        "df = pd.read_csv(\"/sentiment-topic-test.tsv\", delimiter=\"\\t\")\n",
        "\n",
        "# Preprocess the tweets\n",
        "stop_words = set(stopwords.words('english'))\n",
        "\n",
        "def preprocess_text(text):\n",
        "    tokens = word_tokenize(text.lower())\n",
        "    tokens = [token for token in tokens if token.isalpha() and token not in stop_words]\n",
        "    return tokens\n",
        "\n",
        "# Apply preprocessing to tweets\n",
        "df['Processed_Tweets'] = df['text'].apply(preprocess_text)\n",
        "\n",
        "\n",
        "# Create bag-of-words representation of new data using the same dictionary as the trained model\n",
        "new_corpus = [dictionary.doc2bow(doc) for doc in df['Processed_Tweets']]\n",
        "\n",
        "# Apply the trained LDA model to new data\n",
        "new_topics = []\n",
        "new_probabilities = []\n",
        "threshold = 0.5  # Adjust the threshold as needed\n",
        "for tweet_bow in new_corpus:\n",
        "    topic_distribution = lda_model.get_document_topics(tweet_bow)\n",
        "    dominant_topic, prob = max(topic_distribution, key=lambda x: x[1])\n",
        "    if prob >= threshold:\n",
        "        new_topics.append(dominant_topic)\n",
        "        new_probabilities.append(prob)\n",
        "    else:\n",
        "        new_topics.append(None)\n",
        "        new_probabilities.append(None)\n",
        "\n",
        "df['Topic'] = new_topics\n",
        "df['Topic_Probability'] = new_probabilities\n",
        "\n",
        "# Print the texts along with their corresponding topics and probabilities\n",
        "for index, row in df.head(10).iterrows():\n",
        "    if row['Topic'] is not None and not pd.isnull(row['Topic_Probability']):\n",
        "        tweet_text = row['text']\n",
        "        topic_label = topic_labels.get(row['Topic'], 'Unknown')\n",
        "        probability = f\"{row['Topic_Probability']:.4f}\"\n",
        "        print(f\"text: {tweet_text}\")\n",
        "        print(f\"Topic: {topic_label} (Probability: {probability})\")\n",
        "        print()"
      ],
      "metadata": {
        "colab": {
          "base_uri": "https://localhost:8080/"
        },
        "id": "FiJoty4APyyq",
        "outputId": "2b9cf2f5-a419-4c7b-f4c6-a00022687d72"
      },
      "execution_count": null,
      "outputs": [
        {
          "output_type": "stream",
          "name": "stdout",
          "text": [
            "text: I wouldn't be caught dead watching the NFL if it weren't for Taylor Swift.\n",
            "Topic: ever (Probability: 0.9159)\n",
            "\n",
            "text: Chris O'Donnell stated that while filming for this movie, he felt like he was in a Toys ''R'' Us commercial.\n",
            "Topic: movie (Probability: 0.9389)\n",
            "\n",
            "text: The whole game was a rollercoaster ride, but Los Angeles Lakers ultimately persevered and won!\n",
            "Topic: movie (Probability: 0.9328)\n",
            "\n",
            "text: Zendaya slayed in Dune 2, as she does in all her movies.\n",
            "Topic: started (Probability: 0.8660)\n",
            "\n",
            "text: While my favorite player was playing this match and started off strongggg, it went downhill after Messi's injyry midgame.\n",
            "Topic: started (Probability: 0.9442)\n",
            "\n",
            "text: My uncle's brother's neighbor's cat's veterinarian David reads the communist manifesto in his spare time.\n",
            "Topic: ever (Probability: 0.9439)\n",
            "\n",
            "text: He said that The Great Gatsby is the best novell ever, and I was about to throw hands.\n",
            "Topic: ever (Probability: 0.9253)\n",
            "\n",
            "text: I could not look away from this train wrck of a movie, on February 14th of all days.\n",
            "Topic: movie (Probability: 0.9254)\n",
            "\n",
            "text: The film Everything Everywhere All At Once follows Evelyn Wang, a woman drowning under the stress of her family's failing laundromat.\n",
            "Topic: ever (Probability: 0.9483)\n",
            "\n",
            "text: I just finished reading pride and prejudice which had me HOOOKED from the beginning.\n",
            "Topic: movie (Probability: 0.9040)\n",
            "\n"
          ]
        }
      ]
    },
    {
      "cell_type": "code",
      "source": [
        "from sklearn.metrics import classification_report\n",
        "\n",
        "# Prepare ground truth labels\n",
        "ground_truth = df['topic']\n",
        "\n",
        "# Map predicted topics to the ground truth labels\n",
        "topic_to_label = {0: 'sports', 1: 'movie', 2: 'book'}  # Modify this mapping as needed\n",
        "predicted_labels = df['Topic'].map(topic_to_label)\n",
        "\n",
        "# Fill missing classes in predicted labels with 'Unknown'\n",
        "predicted_labels.fillna('Unknown', inplace=True)\n",
        "\n",
        "# Generate classification report\n",
        "classification_report_output = classification_report(ground_truth, predicted_labels)\n",
        "\n",
        "# Print classification report\n",
        "print(\"Classification Report:\")\n",
        "print(classification_report_output)"
      ],
      "metadata": {
        "colab": {
          "base_uri": "https://localhost:8080/"
        },
        "id": "3631qZw2fsrR",
        "outputId": "1a68874d-3cc0-4b61-b1b2-4b4fdd375a33"
      },
      "execution_count": null,
      "outputs": [
        {
          "output_type": "stream",
          "name": "stdout",
          "text": [
            "Classification Report:\n",
            "              precision    recall  f1-score   support\n",
            "\n",
            "        book       0.25      0.33      0.29         3\n",
            "       movie       0.25      0.25      0.25         4\n",
            "      sports       0.50      0.33      0.40         3\n",
            "\n",
            "    accuracy                           0.30        10\n",
            "   macro avg       0.33      0.31      0.31        10\n",
            "weighted avg       0.33      0.30      0.31        10\n",
            "\n"
          ]
        }
      ]
    },
    {
      "cell_type": "code",
      "source": [
        "import matplotlib.pyplot as plt\n",
        "\n",
        "# Define the class labels and corresponding scores\n",
        "labels = ['sports', 'movie', 'book']\n",
        "precision = [0.5, 0.25, 0.25]  # Example precision scores for each class\n",
        "recall = [0.33, 0.25, 0.33]    # Example recall scores for each class\n",
        "f1_score = [0.40, 0.25, 0.29]  # Example F1-scores for each class\n",
        "\n",
        "# Plot bar graph\n",
        "x = range(len(labels))\n",
        "\n",
        "plt.figure(figsize=(10, 6))\n",
        "plt.bar(x, precision, width=0.2, label='Precision')\n",
        "plt.bar([i + 0.2 for i in x], recall, width=0.2, label='Recall')\n",
        "plt.bar([i + 0.4 for i in x], f1_score, width=0.2, label='F1-score')\n",
        "plt.xlabel('Classes')\n",
        "plt.ylabel('Scores')\n",
        "plt.title('LDA performance on test data')\n",
        "plt.xticks([i + 0.2 for i in x], labels)\n",
        "plt.legend()\n",
        "plt.ylim(0, 1)  # Set y-axis limits to [0, 1]\n",
        "plt.show()"
      ],
      "metadata": {
        "colab": {
          "base_uri": "https://localhost:8080/",
          "height": 564
        },
        "id": "_ATx17R3vv2G",
        "outputId": "55272bfa-5a8e-4165-e3bf-e78a17f81d36"
      },
      "execution_count": null,
      "outputs": [
        {
          "output_type": "display_data",
          "data": {
            "text/plain": [
              "<Figure size 1000x600 with 1 Axes>"
            ],
            "image/png": "[encoded data removed]"
          },
          "metadata": {}
        }
      ]
    }
  ],
  "metadata": {
    "accelerator": "GPU",
    "colab": {
      "gpuType": "T4",
      "provenance": [],
      "collapsed_sections": [
        "8TwJaw_o2Vmg",
        "xqo_5kOniUzs",
        "xRCPZ9B3j_Al",
        "o9xr9lbqkqin"
      ]
    },
    "kernelspec": {
      "display_name": "Python 3",
      "name": "python3"
    },
    "language_info": {
      "codemirror_mode": {
        "name": "ipython",
        "version": 3
      },
      "file_extension": ".py",
      "mimetype": "text/x-python",
      "name": "python",
      "nbconvert_exporter": "python",
      "pygments_lexer": "ipython3",
      "version": "3.7.4"
    }
  },
  "nbformat": 4,
  "nbformat_minor": 0
}